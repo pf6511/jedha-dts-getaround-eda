{
 "cells": [
  {
   "cell_type": "markdown",
   "id": "af373611",
   "metadata": {},
   "source": [
    "## PROJECT - Deployment ##\n",
    "\n",
    "# Getaround Delay Analysis 🚗 #"
   ]
  },
  {
   "cell_type": "code",
   "execution_count": 13,
   "id": "40eac830",
   "metadata": {},
   "outputs": [],
   "source": [
    "import numpy as np\n",
    "import pandas as pd\n",
    "\n",
    "import plotly.express as px\n",
    "import plotly.graph_objects as go\n",
    "from plotly.subplots import make_subplots\n"
   ]
  },
  {
   "cell_type": "code",
   "execution_count": null,
   "id": "a55bc002",
   "metadata": {},
   "outputs": [],
   "source": [
    "DELAY_ANALYSIS_XL_FILE_PATH = \"data/get_around_delay_analysis.xlsx\"\n",
    "\n",
    "chart_default_fillcolor='#d6a62b'"
   ]
  },
  {
   "cell_type": "markdown",
   "id": "e3193868",
   "metadata": {},
   "source": [
    "### Utility methods ###"
   ]
  },
  {
   "cell_type": "code",
   "execution_count": 15,
   "id": "b4b2334d",
   "metadata": {},
   "outputs": [],
   "source": [
    "# Constants\n",
    "DECIMAL_FORMAT_2 = \"%.2f\"\n",
    "def format_2_decimals(number) -> str:\n",
    "    return (DECIMAL_FORMAT_2 % number)\n",
    "\n",
    "def decimal_format_str(nb_decimals:int) -> str:\n",
    "    return \"{:.\"+str(nb_decimals)+\"f}\"\n",
    "\n",
    "def format_decimals(number, nb_decimals:int) ->str:\n",
    "    return decimal_format_str(nb_decimals).format(number)"
   ]
  },
  {
   "cell_type": "code",
   "execution_count": 16,
   "id": "e6dad8e6",
   "metadata": {},
   "outputs": [],
   "source": [
    "delay_analysis_dtf = pd.read_excel(DELAY_ANALYSIS_XL_FILE_PATH)"
   ]
  },
  {
   "cell_type": "code",
   "execution_count": 17,
   "id": "c7286d21",
   "metadata": {},
   "outputs": [
    {
     "data": {
      "text/html": [
       "<div>\n",
       "<style scoped>\n",
       "    .dataframe tbody tr th:only-of-type {\n",
       "        vertical-align: middle;\n",
       "    }\n",
       "\n",
       "    .dataframe tbody tr th {\n",
       "        vertical-align: top;\n",
       "    }\n",
       "\n",
       "    .dataframe thead th {\n",
       "        text-align: right;\n",
       "    }\n",
       "</style>\n",
       "<table border=\"1\" class=\"dataframe\">\n",
       "  <thead>\n",
       "    <tr style=\"text-align: right;\">\n",
       "      <th></th>\n",
       "      <th>rental_id</th>\n",
       "      <th>car_id</th>\n",
       "      <th>checkin_type</th>\n",
       "      <th>state</th>\n",
       "      <th>delay_at_checkout_in_minutes</th>\n",
       "      <th>previous_ended_rental_id</th>\n",
       "      <th>time_delta_with_previous_rental_in_minutes</th>\n",
       "    </tr>\n",
       "  </thead>\n",
       "  <tbody>\n",
       "    <tr>\n",
       "      <th>0</th>\n",
       "      <td>505000</td>\n",
       "      <td>363965</td>\n",
       "      <td>mobile</td>\n",
       "      <td>canceled</td>\n",
       "      <td>NaN</td>\n",
       "      <td>NaN</td>\n",
       "      <td>NaN</td>\n",
       "    </tr>\n",
       "    <tr>\n",
       "      <th>1</th>\n",
       "      <td>507750</td>\n",
       "      <td>269550</td>\n",
       "      <td>mobile</td>\n",
       "      <td>ended</td>\n",
       "      <td>-81.0</td>\n",
       "      <td>NaN</td>\n",
       "      <td>NaN</td>\n",
       "    </tr>\n",
       "    <tr>\n",
       "      <th>2</th>\n",
       "      <td>508131</td>\n",
       "      <td>359049</td>\n",
       "      <td>connect</td>\n",
       "      <td>ended</td>\n",
       "      <td>70.0</td>\n",
       "      <td>NaN</td>\n",
       "      <td>NaN</td>\n",
       "    </tr>\n",
       "    <tr>\n",
       "      <th>3</th>\n",
       "      <td>508865</td>\n",
       "      <td>299063</td>\n",
       "      <td>connect</td>\n",
       "      <td>canceled</td>\n",
       "      <td>NaN</td>\n",
       "      <td>NaN</td>\n",
       "      <td>NaN</td>\n",
       "    </tr>\n",
       "    <tr>\n",
       "      <th>4</th>\n",
       "      <td>511440</td>\n",
       "      <td>313932</td>\n",
       "      <td>mobile</td>\n",
       "      <td>ended</td>\n",
       "      <td>NaN</td>\n",
       "      <td>NaN</td>\n",
       "      <td>NaN</td>\n",
       "    </tr>\n",
       "    <tr>\n",
       "      <th>5</th>\n",
       "      <td>511626</td>\n",
       "      <td>398802</td>\n",
       "      <td>mobile</td>\n",
       "      <td>ended</td>\n",
       "      <td>-203.0</td>\n",
       "      <td>NaN</td>\n",
       "      <td>NaN</td>\n",
       "    </tr>\n",
       "    <tr>\n",
       "      <th>6</th>\n",
       "      <td>511639</td>\n",
       "      <td>370585</td>\n",
       "      <td>connect</td>\n",
       "      <td>ended</td>\n",
       "      <td>-15.0</td>\n",
       "      <td>563782.0</td>\n",
       "      <td>570.0</td>\n",
       "    </tr>\n",
       "    <tr>\n",
       "      <th>7</th>\n",
       "      <td>512303</td>\n",
       "      <td>371242</td>\n",
       "      <td>mobile</td>\n",
       "      <td>ended</td>\n",
       "      <td>-44.0</td>\n",
       "      <td>NaN</td>\n",
       "      <td>NaN</td>\n",
       "    </tr>\n",
       "    <tr>\n",
       "      <th>8</th>\n",
       "      <td>512475</td>\n",
       "      <td>322502</td>\n",
       "      <td>mobile</td>\n",
       "      <td>canceled</td>\n",
       "      <td>NaN</td>\n",
       "      <td>NaN</td>\n",
       "      <td>NaN</td>\n",
       "    </tr>\n",
       "    <tr>\n",
       "      <th>9</th>\n",
       "      <td>513434</td>\n",
       "      <td>256528</td>\n",
       "      <td>connect</td>\n",
       "      <td>ended</td>\n",
       "      <td>23.0</td>\n",
       "      <td>NaN</td>\n",
       "      <td>NaN</td>\n",
       "    </tr>\n",
       "  </tbody>\n",
       "</table>\n",
       "</div>"
      ],
      "text/plain": [
       "   rental_id  car_id checkin_type     state  delay_at_checkout_in_minutes  \\\n",
       "0     505000  363965       mobile  canceled                           NaN   \n",
       "1     507750  269550       mobile     ended                         -81.0   \n",
       "2     508131  359049      connect     ended                          70.0   \n",
       "3     508865  299063      connect  canceled                           NaN   \n",
       "4     511440  313932       mobile     ended                           NaN   \n",
       "5     511626  398802       mobile     ended                        -203.0   \n",
       "6     511639  370585      connect     ended                         -15.0   \n",
       "7     512303  371242       mobile     ended                         -44.0   \n",
       "8     512475  322502       mobile  canceled                           NaN   \n",
       "9     513434  256528      connect     ended                          23.0   \n",
       "\n",
       "   previous_ended_rental_id  time_delta_with_previous_rental_in_minutes  \n",
       "0                       NaN                                         NaN  \n",
       "1                       NaN                                         NaN  \n",
       "2                       NaN                                         NaN  \n",
       "3                       NaN                                         NaN  \n",
       "4                       NaN                                         NaN  \n",
       "5                       NaN                                         NaN  \n",
       "6                  563782.0                                       570.0  \n",
       "7                       NaN                                         NaN  \n",
       "8                       NaN                                         NaN  \n",
       "9                       NaN                                         NaN  "
      ]
     },
     "execution_count": 17,
     "metadata": {},
     "output_type": "execute_result"
    }
   ],
   "source": [
    "delay_analysis_dtf.head(10)"
   ]
  },
  {
   "cell_type": "code",
   "execution_count": 18,
   "id": "73564fe4",
   "metadata": {},
   "outputs": [
    {
     "name": "stdout",
     "output_type": "stream",
     "text": [
      "number of rows 21310\n"
     ]
    }
   ],
   "source": [
    "print(f'number of rows {delay_analysis_dtf.shape[0]}')"
   ]
  },
  {
   "cell_type": "markdown",
   "id": "3db340c7",
   "metadata": {},
   "source": [
    "### Computing some figures like checkin_type distribution, distribution of rental states, rentals with previous rental,..."
   ]
  },
  {
   "cell_type": "code",
   "execution_count": 19,
   "id": "1c8c3efd",
   "metadata": {},
   "outputs": [
    {
     "data": {
      "text/html": [
       "<div>\n",
       "<style scoped>\n",
       "    .dataframe tbody tr th:only-of-type {\n",
       "        vertical-align: middle;\n",
       "    }\n",
       "\n",
       "    .dataframe tbody tr th {\n",
       "        vertical-align: top;\n",
       "    }\n",
       "\n",
       "    .dataframe thead th {\n",
       "        text-align: right;\n",
       "    }\n",
       "</style>\n",
       "<table border=\"1\" class=\"dataframe\">\n",
       "  <thead>\n",
       "    <tr style=\"text-align: right;\">\n",
       "      <th></th>\n",
       "      <th>checkin_type</th>\n",
       "      <th>proportion</th>\n",
       "    </tr>\n",
       "  </thead>\n",
       "  <tbody>\n",
       "    <tr>\n",
       "      <th>0</th>\n",
       "      <td>connect</td>\n",
       "      <td>20.211168</td>\n",
       "    </tr>\n",
       "    <tr>\n",
       "      <th>1</th>\n",
       "      <td>mobile</td>\n",
       "      <td>79.788832</td>\n",
       "    </tr>\n",
       "  </tbody>\n",
       "</table>\n",
       "</div>"
      ],
      "text/plain": [
       "  checkin_type  proportion\n",
       "0      connect   20.211168\n",
       "1       mobile   79.788832"
      ]
     },
     "execution_count": 19,
     "metadata": {},
     "output_type": "execute_result"
    }
   ],
   "source": [
    "dtf = delay_analysis_dtf.groupby(['checkin_type']).size()*100/len(delay_analysis_dtf)\n",
    "dtf = dtf.reset_index()\n",
    "dtf.columns = ['checkin_type', 'proportion']\n",
    "dtf"
   ]
  },
  {
   "cell_type": "code",
   "execution_count": 20,
   "id": "0902ae03",
   "metadata": {},
   "outputs": [
    {
     "data": {
      "text/html": [
       "<div>\n",
       "<style scoped>\n",
       "    .dataframe tbody tr th:only-of-type {\n",
       "        vertical-align: middle;\n",
       "    }\n",
       "\n",
       "    .dataframe tbody tr th {\n",
       "        vertical-align: top;\n",
       "    }\n",
       "\n",
       "    .dataframe thead th {\n",
       "        text-align: right;\n",
       "    }\n",
       "</style>\n",
       "<table border=\"1\" class=\"dataframe\">\n",
       "  <thead>\n",
       "    <tr style=\"text-align: right;\">\n",
       "      <th></th>\n",
       "      <th>checkin_type</th>\n",
       "      <th>proportion</th>\n",
       "    </tr>\n",
       "  </thead>\n",
       "  <tbody>\n",
       "    <tr>\n",
       "      <th>0</th>\n",
       "      <td>mobile</td>\n",
       "      <td>79.79</td>\n",
       "    </tr>\n",
       "    <tr>\n",
       "      <th>1</th>\n",
       "      <td>connect</td>\n",
       "      <td>20.21</td>\n",
       "    </tr>\n",
       "  </tbody>\n",
       "</table>\n",
       "</div>"
      ],
      "text/plain": [
       "  checkin_type  proportion\n",
       "0       mobile       79.79\n",
       "1      connect       20.21"
      ]
     },
     "execution_count": 20,
     "metadata": {},
     "output_type": "execute_result"
    }
   ],
   "source": [
    "dtf = (\n",
    "    delay_analysis_dtf['checkin_type']\n",
    "    .value_counts(normalize=True)\n",
    "    .mul(100)\n",
    "    .round(2)\n",
    "    .reset_index()\n",
    ")\n",
    "dtf"
   ]
  },
  {
   "cell_type": "code",
   "execution_count": 21,
   "id": "578703a1",
   "metadata": {},
   "outputs": [
    {
     "data": {
      "text/html": [
       "<div>\n",
       "<style scoped>\n",
       "    .dataframe tbody tr th:only-of-type {\n",
       "        vertical-align: middle;\n",
       "    }\n",
       "\n",
       "    .dataframe tbody tr th {\n",
       "        vertical-align: top;\n",
       "    }\n",
       "\n",
       "    .dataframe thead th {\n",
       "        text-align: right;\n",
       "    }\n",
       "</style>\n",
       "<table border=\"1\" class=\"dataframe\">\n",
       "  <thead>\n",
       "    <tr style=\"text-align: right;\">\n",
       "      <th></th>\n",
       "      <th>state</th>\n",
       "      <th>proportion</th>\n",
       "    </tr>\n",
       "  </thead>\n",
       "  <tbody>\n",
       "    <tr>\n",
       "      <th>0</th>\n",
       "      <td>canceled</td>\n",
       "      <td>15.321445</td>\n",
       "    </tr>\n",
       "    <tr>\n",
       "      <th>1</th>\n",
       "      <td>ended</td>\n",
       "      <td>84.678555</td>\n",
       "    </tr>\n",
       "  </tbody>\n",
       "</table>\n",
       "</div>"
      ],
      "text/plain": [
       "      state  proportion\n",
       "0  canceled   15.321445\n",
       "1     ended   84.678555"
      ]
     },
     "execution_count": 21,
     "metadata": {},
     "output_type": "execute_result"
    }
   ],
   "source": [
    "dtf = delay_analysis_dtf.groupby(['state']).size()*100/len(delay_analysis_dtf)\n",
    "dtf = dtf.reset_index()\n",
    "dtf.columns = ['state', 'proportion']\n",
    "dtf"
   ]
  },
  {
   "cell_type": "code",
   "execution_count": 22,
   "id": "d01102b2",
   "metadata": {},
   "outputs": [
    {
     "name": "stdout",
     "output_type": "stream",
     "text": [
      "1841\n"
     ]
    }
   ],
   "source": [
    "delay_analysis_delta_with_previous_dtf = delay_analysis_dtf.query(\"time_delta_with_previous_rental_in_minutes.notnull()\")\n",
    "print(delay_analysis_delta_with_previous_dtf.shape[0])"
   ]
  },
  {
   "cell_type": "code",
   "execution_count": 23,
   "id": "57893512",
   "metadata": {},
   "outputs": [
    {
     "name": "stdout",
     "output_type": "stream",
     "text": [
      "1841\n"
     ]
    }
   ],
   "source": [
    "\n",
    "print(delay_analysis_dtf.query(\"previous_ended_rental_id.notnull()\").shape[0])"
   ]
  },
  {
   "cell_type": "markdown",
   "id": "e33e9db3",
   "metadata": {},
   "source": [
    "### Which share of our owner’s revenue would potentially be affected by the feature? ###"
   ]
  },
  {
   "cell_type": "markdown",
   "id": "6f9b177f",
   "metadata": {},
   "source": [
    "The Proportion of rentals with a previous rental and with a delay < 12h with previous rentals helps answer this question\n",
    "\n",
    "time_delta_with_previous_rental_in_minutes column holds this information\n",
    "\n",
    "Difference in minutes between this rental planned start time and the previous rental planned end time (when lower than 12 hours, NULL if higher)\n",
    "\n",
    "Statisticaly (based on history / dataset), for a given threshold (ie a minimum delay between two rentals ), the drivers who rented a car with a delay with previous rental planned checkout time inferior of the threshold\n",
    "would not have been able to rent the car hence this proportion of rentals represents a potential drop of revenue.\n"
   ]
  },
  {
   "cell_type": "code",
   "execution_count": 24,
   "id": "651be349",
   "metadata": {},
   "outputs": [],
   "source": [
    "delay_analysis_delta_with_previous_dtf = delay_analysis_dtf.query(\"time_delta_with_previous_rental_in_minutes.notnull()\")"
   ]
  },
  {
   "cell_type": "code",
   "execution_count": 25,
   "id": "fe81c000",
   "metadata": {},
   "outputs": [
    {
     "name": "stdout",
     "output_type": "stream",
     "text": [
      "proportion (%) of rentals potentially** affected by a minimum delay between two rentals : 8.64\n"
     ]
    }
   ],
   "source": [
    "proportion_delay_analysis_delta_with_previous = delay_analysis_delta_with_previous_dtf.shape[0]/delay_analysis_dtf.shape[0]\n",
    "print(f'proportion (%) of rentals potentially** affected by a minimum delay between two rentals : {format_decimals(100*proportion_delay_analysis_delta_with_previous,2)}')"
   ]
  },
  {
   "cell_type": "markdown",
   "id": "e0b550fd",
   "metadata": {},
   "source": [
    "### How many rentals would be affected by the feature depending on the threshold and scope we choose? ###"
   ]
  },
  {
   "cell_type": "markdown",
   "id": "6abf2aaa",
   "metadata": {},
   "source": [
    "Vizualise the distribution of rentals based on time_delta_with_previous_rental_in_minutes (regardless scope)\n",
    "\n",
    "Rentals affected by the threshold : if delay < threshold. \n",
    "\n",
    "Hence if delay2 < delay1 < threshold => rentals with delay2 also concerned, so cumulative histogram makes sense"
   ]
  },
  {
   "cell_type": "markdown",
   "id": "18742808",
   "metadata": {},
   "source": [
    "#### 1. How many rentals would be affected by the feature depending on the threshold (regardless the scope) we choose? ####"
   ]
  },
  {
   "cell_type": "code",
   "execution_count": 26,
   "id": "ca1aeaff",
   "metadata": {},
   "outputs": [
    {
     "name": "stdout",
     "output_type": "stream",
     "text": [
      "[ 60 120 180 240 300 360 420 480 540 600 660 720]\n",
      "cumulative_counts\n",
      "[ 265  469  600  705  769  825  889  967 1048 1173 1440]\n",
      "bin mid_points\n",
      "[ 90. 150. 210. 270. 330. 390. 450. 510. 570. 630. 690.]\n"
     ]
    },
    {
     "data": {
      "application/vnd.plotly.v1+json": {
       "config": {
        "plotlyServerURL": "https://plot.ly"
       },
       "data": [
        {
         "mode": "lines+markers",
         "name": "Cumulative Proportion",
         "type": "scatter",
         "x": [
          90,
          150,
          210,
          270,
          330,
          390,
          450,
          510,
          570,
          630,
          690
         ],
         "y": [
          0.1840277777777778,
          0.32569444444444445,
          0.4166666666666667,
          0.4895833333333333,
          0.5340277777777778,
          0.5729166666666666,
          0.6173611111111111,
          0.6715277777777777,
          0.7277777777777777,
          0.8145833333333333,
          1
         ],
         "yaxis": "y"
        },
        {
         "line": {
          "dash": "dot"
         },
         "mode": "lines+markers",
         "name": "Cumulative Count",
         "type": "scatter",
         "x": [
          90,
          150,
          210,
          270,
          330,
          390,
          450,
          510,
          570,
          630,
          690
         ],
         "y": [
          265,
          469,
          600,
          705,
          769,
          825,
          889,
          967,
          1048,
          1173,
          1440
         ],
         "yaxis": "y2"
        }
       ],
       "layout": {
        "height": 500,
        "legend": {
         "orientation": "h",
         "x": 0.5,
         "xanchor": "center",
         "y": 1.1
        },
        "template": {
         "data": {
          "bar": [
           {
            "error_x": {
             "color": "#2a3f5f"
            },
            "error_y": {
             "color": "#2a3f5f"
            },
            "marker": {
             "line": {
              "color": "#E5ECF6",
              "width": 0.5
             },
             "pattern": {
              "fillmode": "overlay",
              "size": 10,
              "solidity": 0.2
             }
            },
            "type": "bar"
           }
          ],
          "barpolar": [
           {
            "marker": {
             "line": {
              "color": "#E5ECF6",
              "width": 0.5
             },
             "pattern": {
              "fillmode": "overlay",
              "size": 10,
              "solidity": 0.2
             }
            },
            "type": "barpolar"
           }
          ],
          "carpet": [
           {
            "aaxis": {
             "endlinecolor": "#2a3f5f",
             "gridcolor": "white",
             "linecolor": "white",
             "minorgridcolor": "white",
             "startlinecolor": "#2a3f5f"
            },
            "baxis": {
             "endlinecolor": "#2a3f5f",
             "gridcolor": "white",
             "linecolor": "white",
             "minorgridcolor": "white",
             "startlinecolor": "#2a3f5f"
            },
            "type": "carpet"
           }
          ],
          "choropleth": [
           {
            "colorbar": {
             "outlinewidth": 0,
             "ticks": ""
            },
            "type": "choropleth"
           }
          ],
          "contour": [
           {
            "colorbar": {
             "outlinewidth": 0,
             "ticks": ""
            },
            "colorscale": [
             [
              0,
              "#0d0887"
             ],
             [
              0.1111111111111111,
              "#46039f"
             ],
             [
              0.2222222222222222,
              "#7201a8"
             ],
             [
              0.3333333333333333,
              "#9c179e"
             ],
             [
              0.4444444444444444,
              "#bd3786"
             ],
             [
              0.5555555555555556,
              "#d8576b"
             ],
             [
              0.6666666666666666,
              "#ed7953"
             ],
             [
              0.7777777777777778,
              "#fb9f3a"
             ],
             [
              0.8888888888888888,
              "#fdca26"
             ],
             [
              1,
              "#f0f921"
             ]
            ],
            "type": "contour"
           }
          ],
          "contourcarpet": [
           {
            "colorbar": {
             "outlinewidth": 0,
             "ticks": ""
            },
            "type": "contourcarpet"
           }
          ],
          "heatmap": [
           {
            "colorbar": {
             "outlinewidth": 0,
             "ticks": ""
            },
            "colorscale": [
             [
              0,
              "#0d0887"
             ],
             [
              0.1111111111111111,
              "#46039f"
             ],
             [
              0.2222222222222222,
              "#7201a8"
             ],
             [
              0.3333333333333333,
              "#9c179e"
             ],
             [
              0.4444444444444444,
              "#bd3786"
             ],
             [
              0.5555555555555556,
              "#d8576b"
             ],
             [
              0.6666666666666666,
              "#ed7953"
             ],
             [
              0.7777777777777778,
              "#fb9f3a"
             ],
             [
              0.8888888888888888,
              "#fdca26"
             ],
             [
              1,
              "#f0f921"
             ]
            ],
            "type": "heatmap"
           }
          ],
          "heatmapgl": [
           {
            "colorbar": {
             "outlinewidth": 0,
             "ticks": ""
            },
            "colorscale": [
             [
              0,
              "#0d0887"
             ],
             [
              0.1111111111111111,
              "#46039f"
             ],
             [
              0.2222222222222222,
              "#7201a8"
             ],
             [
              0.3333333333333333,
              "#9c179e"
             ],
             [
              0.4444444444444444,
              "#bd3786"
             ],
             [
              0.5555555555555556,
              "#d8576b"
             ],
             [
              0.6666666666666666,
              "#ed7953"
             ],
             [
              0.7777777777777778,
              "#fb9f3a"
             ],
             [
              0.8888888888888888,
              "#fdca26"
             ],
             [
              1,
              "#f0f921"
             ]
            ],
            "type": "heatmapgl"
           }
          ],
          "histogram": [
           {
            "marker": {
             "pattern": {
              "fillmode": "overlay",
              "size": 10,
              "solidity": 0.2
             }
            },
            "type": "histogram"
           }
          ],
          "histogram2d": [
           {
            "colorbar": {
             "outlinewidth": 0,
             "ticks": ""
            },
            "colorscale": [
             [
              0,
              "#0d0887"
             ],
             [
              0.1111111111111111,
              "#46039f"
             ],
             [
              0.2222222222222222,
              "#7201a8"
             ],
             [
              0.3333333333333333,
              "#9c179e"
             ],
             [
              0.4444444444444444,
              "#bd3786"
             ],
             [
              0.5555555555555556,
              "#d8576b"
             ],
             [
              0.6666666666666666,
              "#ed7953"
             ],
             [
              0.7777777777777778,
              "#fb9f3a"
             ],
             [
              0.8888888888888888,
              "#fdca26"
             ],
             [
              1,
              "#f0f921"
             ]
            ],
            "type": "histogram2d"
           }
          ],
          "histogram2dcontour": [
           {
            "colorbar": {
             "outlinewidth": 0,
             "ticks": ""
            },
            "colorscale": [
             [
              0,
              "#0d0887"
             ],
             [
              0.1111111111111111,
              "#46039f"
             ],
             [
              0.2222222222222222,
              "#7201a8"
             ],
             [
              0.3333333333333333,
              "#9c179e"
             ],
             [
              0.4444444444444444,
              "#bd3786"
             ],
             [
              0.5555555555555556,
              "#d8576b"
             ],
             [
              0.6666666666666666,
              "#ed7953"
             ],
             [
              0.7777777777777778,
              "#fb9f3a"
             ],
             [
              0.8888888888888888,
              "#fdca26"
             ],
             [
              1,
              "#f0f921"
             ]
            ],
            "type": "histogram2dcontour"
           }
          ],
          "mesh3d": [
           {
            "colorbar": {
             "outlinewidth": 0,
             "ticks": ""
            },
            "type": "mesh3d"
           }
          ],
          "parcoords": [
           {
            "line": {
             "colorbar": {
              "outlinewidth": 0,
              "ticks": ""
             }
            },
            "type": "parcoords"
           }
          ],
          "pie": [
           {
            "automargin": true,
            "type": "pie"
           }
          ],
          "scatter": [
           {
            "fillpattern": {
             "fillmode": "overlay",
             "size": 10,
             "solidity": 0.2
            },
            "type": "scatter"
           }
          ],
          "scatter3d": [
           {
            "line": {
             "colorbar": {
              "outlinewidth": 0,
              "ticks": ""
             }
            },
            "marker": {
             "colorbar": {
              "outlinewidth": 0,
              "ticks": ""
             }
            },
            "type": "scatter3d"
           }
          ],
          "scattercarpet": [
           {
            "marker": {
             "colorbar": {
              "outlinewidth": 0,
              "ticks": ""
             }
            },
            "type": "scattercarpet"
           }
          ],
          "scattergeo": [
           {
            "marker": {
             "colorbar": {
              "outlinewidth": 0,
              "ticks": ""
             }
            },
            "type": "scattergeo"
           }
          ],
          "scattergl": [
           {
            "marker": {
             "colorbar": {
              "outlinewidth": 0,
              "ticks": ""
             }
            },
            "type": "scattergl"
           }
          ],
          "scattermapbox": [
           {
            "marker": {
             "colorbar": {
              "outlinewidth": 0,
              "ticks": ""
             }
            },
            "type": "scattermapbox"
           }
          ],
          "scatterpolar": [
           {
            "marker": {
             "colorbar": {
              "outlinewidth": 0,
              "ticks": ""
             }
            },
            "type": "scatterpolar"
           }
          ],
          "scatterpolargl": [
           {
            "marker": {
             "colorbar": {
              "outlinewidth": 0,
              "ticks": ""
             }
            },
            "type": "scatterpolargl"
           }
          ],
          "scatterternary": [
           {
            "marker": {
             "colorbar": {
              "outlinewidth": 0,
              "ticks": ""
             }
            },
            "type": "scatterternary"
           }
          ],
          "surface": [
           {
            "colorbar": {
             "outlinewidth": 0,
             "ticks": ""
            },
            "colorscale": [
             [
              0,
              "#0d0887"
             ],
             [
              0.1111111111111111,
              "#46039f"
             ],
             [
              0.2222222222222222,
              "#7201a8"
             ],
             [
              0.3333333333333333,
              "#9c179e"
             ],
             [
              0.4444444444444444,
              "#bd3786"
             ],
             [
              0.5555555555555556,
              "#d8576b"
             ],
             [
              0.6666666666666666,
              "#ed7953"
             ],
             [
              0.7777777777777778,
              "#fb9f3a"
             ],
             [
              0.8888888888888888,
              "#fdca26"
             ],
             [
              1,
              "#f0f921"
             ]
            ],
            "type": "surface"
           }
          ],
          "table": [
           {
            "cells": {
             "fill": {
              "color": "#EBF0F8"
             },
             "line": {
              "color": "white"
             }
            },
            "header": {
             "fill": {
              "color": "#C8D4E3"
             },
             "line": {
              "color": "white"
             }
            },
            "type": "table"
           }
          ]
         },
         "layout": {
          "annotationdefaults": {
           "arrowcolor": "#2a3f5f",
           "arrowhead": 0,
           "arrowwidth": 1
          },
          "autotypenumbers": "strict",
          "coloraxis": {
           "colorbar": {
            "outlinewidth": 0,
            "ticks": ""
           }
          },
          "colorscale": {
           "diverging": [
            [
             0,
             "#8e0152"
            ],
            [
             0.1,
             "#c51b7d"
            ],
            [
             0.2,
             "#de77ae"
            ],
            [
             0.3,
             "#f1b6da"
            ],
            [
             0.4,
             "#fde0ef"
            ],
            [
             0.5,
             "#f7f7f7"
            ],
            [
             0.6,
             "#e6f5d0"
            ],
            [
             0.7,
             "#b8e186"
            ],
            [
             0.8,
             "#7fbc41"
            ],
            [
             0.9,
             "#4d9221"
            ],
            [
             1,
             "#276419"
            ]
           ],
           "sequential": [
            [
             0,
             "#0d0887"
            ],
            [
             0.1111111111111111,
             "#46039f"
            ],
            [
             0.2222222222222222,
             "#7201a8"
            ],
            [
             0.3333333333333333,
             "#9c179e"
            ],
            [
             0.4444444444444444,
             "#bd3786"
            ],
            [
             0.5555555555555556,
             "#d8576b"
            ],
            [
             0.6666666666666666,
             "#ed7953"
            ],
            [
             0.7777777777777778,
             "#fb9f3a"
            ],
            [
             0.8888888888888888,
             "#fdca26"
            ],
            [
             1,
             "#f0f921"
            ]
           ],
           "sequentialminus": [
            [
             0,
             "#0d0887"
            ],
            [
             0.1111111111111111,
             "#46039f"
            ],
            [
             0.2222222222222222,
             "#7201a8"
            ],
            [
             0.3333333333333333,
             "#9c179e"
            ],
            [
             0.4444444444444444,
             "#bd3786"
            ],
            [
             0.5555555555555556,
             "#d8576b"
            ],
            [
             0.6666666666666666,
             "#ed7953"
            ],
            [
             0.7777777777777778,
             "#fb9f3a"
            ],
            [
             0.8888888888888888,
             "#fdca26"
            ],
            [
             1,
             "#f0f921"
            ]
           ]
          },
          "colorway": [
           "#636efa",
           "#EF553B",
           "#00cc96",
           "#ab63fa",
           "#FFA15A",
           "#19d3f3",
           "#FF6692",
           "#B6E880",
           "#FF97FF",
           "#FECB52"
          ],
          "font": {
           "color": "#2a3f5f"
          },
          "geo": {
           "bgcolor": "white",
           "lakecolor": "white",
           "landcolor": "#E5ECF6",
           "showlakes": true,
           "showland": true,
           "subunitcolor": "white"
          },
          "hoverlabel": {
           "align": "left"
          },
          "hovermode": "closest",
          "mapbox": {
           "style": "light"
          },
          "paper_bgcolor": "white",
          "plot_bgcolor": "#E5ECF6",
          "polar": {
           "angularaxis": {
            "gridcolor": "white",
            "linecolor": "white",
            "ticks": ""
           },
           "bgcolor": "#E5ECF6",
           "radialaxis": {
            "gridcolor": "white",
            "linecolor": "white",
            "ticks": ""
           }
          },
          "scene": {
           "xaxis": {
            "backgroundcolor": "#E5ECF6",
            "gridcolor": "white",
            "gridwidth": 2,
            "linecolor": "white",
            "showbackground": true,
            "ticks": "",
            "zerolinecolor": "white"
           },
           "yaxis": {
            "backgroundcolor": "#E5ECF6",
            "gridcolor": "white",
            "gridwidth": 2,
            "linecolor": "white",
            "showbackground": true,
            "ticks": "",
            "zerolinecolor": "white"
           },
           "zaxis": {
            "backgroundcolor": "#E5ECF6",
            "gridcolor": "white",
            "gridwidth": 2,
            "linecolor": "white",
            "showbackground": true,
            "ticks": "",
            "zerolinecolor": "white"
           }
          },
          "shapedefaults": {
           "line": {
            "color": "#2a3f5f"
           }
          },
          "ternary": {
           "aaxis": {
            "gridcolor": "white",
            "linecolor": "white",
            "ticks": ""
           },
           "baxis": {
            "gridcolor": "white",
            "linecolor": "white",
            "ticks": ""
           },
           "bgcolor": "#E5ECF6",
           "caxis": {
            "gridcolor": "white",
            "linecolor": "white",
            "ticks": ""
           }
          },
          "title": {
           "x": 0.05
          },
          "xaxis": {
           "automargin": true,
           "gridcolor": "white",
           "linecolor": "white",
           "ticks": "",
           "title": {
            "standoff": 15
           },
           "zerolinecolor": "white",
           "zerolinewidth": 2
          },
          "yaxis": {
           "automargin": true,
           "gridcolor": "white",
           "linecolor": "white",
           "ticks": "",
           "title": {
            "standoff": 15
           },
           "zerolinecolor": "white",
           "zerolinewidth": 2
          }
         }
        },
        "title": {
         "text": "Cumulative Distribution of rentals affected by Threshold"
        },
        "width": 800,
        "xaxis": {
         "title": {
          "text": "Threshold - Time delta with previous rental (minutes)"
         }
        },
        "yaxis": {
         "tickformat": ".0%",
         "title": {
          "text": "Proportion"
         }
        },
        "yaxis2": {
         "overlaying": "y",
         "side": "right",
         "title": {
          "text": "Count"
         }
        }
       }
      }
     },
     "metadata": {},
     "output_type": "display_data"
    }
   ],
   "source": [
    "n = 12  # Number of values\n",
    "step = 60\n",
    "custom_bins = np.arange(step, (n + 1) * step, step)\n",
    "\n",
    "print(custom_bins)\n",
    "\n",
    "hist, bin_edges = np.histogram(delay_analysis_delta_with_previous_dtf['time_delta_with_previous_rental_in_minutes'], bins=custom_bins, density=False)\n",
    "cumulative_counts = np.cumsum(hist)\n",
    "\n",
    "print(\"cumulative_counts\")\n",
    "print(cumulative_counts)\n",
    "\n",
    "\n",
    "proportions = cumulative_counts / cumulative_counts[-1]  # Normalize to 1\n",
    "# Use midpoints for x values\n",
    "bin_midpoints = 0.5 * (np.array(bin_edges[:-1]) + np.array(bin_edges[1:]))\n",
    "\n",
    "print(\"bin mid_points\")\n",
    "print(bin_midpoints)\n",
    "#base = delay_analysis_delta_with_previous_dtf.shape[0]\n",
    "#counts = proportions * base\n",
    "#print(\"counts\")\n",
    "#print(counts)\n",
    "\n",
    "fig = go.Figure()\n",
    "\n",
    "# Primary Y-Axis (Proportion)\n",
    "fig.add_trace(go.Scatter(\n",
    "    x=bin_midpoints,\n",
    "    y=proportions,\n",
    "    name=\"Cumulative Proportion\",\n",
    "    yaxis=\"y1\",\n",
    "    mode=\"lines+markers\"\n",
    "))\n",
    "\n",
    "# Secondary Y-Axis (Proportion × constant)\n",
    "fig.add_trace(go.Scatter(\n",
    "    x=bin_midpoints,\n",
    "    y=cumulative_counts,\n",
    "    name=\"Cumulative Count\",\n",
    "    yaxis=\"y2\",\n",
    "    mode=\"lines+markers\",\n",
    "    line=dict(dash='dot')\n",
    "))\n",
    "\n",
    "# Layout with dual y-axes\n",
    "fig.update_layout(\n",
    "    title=\"Cumulative Distribution of rentals affected by Threshold\",\n",
    "    xaxis=dict(title=\"Threshold - Time delta with previous rental (minutes)\"),\n",
    "    yaxis=dict(title=\"Proportion\", tickformat=\".0%\"),\n",
    "    yaxis2=dict(\n",
    "        title=\"Count\",\n",
    "        overlaying=\"y\",\n",
    "        side=\"right\"\n",
    "    ),\n",
    "    width=800,\n",
    "    height=500,\n",
    "    legend=dict(x=0.5, y=1.1, xanchor=\"center\", orientation=\"h\")\n",
    ")\n",
    "\n",
    "fig.show()"
   ]
  },
  {
   "cell_type": "markdown",
   "id": "2bf2f578",
   "metadata": {},
   "source": [
    "With a threshold of 210 minutes, approximatively 600 rentals are concerned. It represents 40% of the rentals with a previous rental, and 40% * 8.64% of the whole population."
   ]
  },
  {
   "cell_type": "markdown",
   "id": "58ef285c",
   "metadata": {},
   "source": [
    "#### 2. How many rentals would be affected by the feature depending on the threshold and the scope we choose? ####"
   ]
  },
  {
   "cell_type": "code",
   "execution_count": 27,
   "id": "9a90f944",
   "metadata": {},
   "outputs": [
    {
     "name": "stdout",
     "output_type": "stream",
     "text": [
      "cumulative_counts\n",
      "[114 191 249 297 319 341 369 408 451 511 632]\n",
      "proportions\n",
      "[0.18037975 0.30221519 0.39398734 0.46993671 0.50474684 0.53955696\n",
      " 0.58386076 0.64556962 0.71360759 0.8085443  1.        ]\n",
      "cumulative_counts\n",
      "[151 278 351 408 450 484 520 559 597 662 808]\n",
      "proportions\n",
      "[0.18688119 0.34405941 0.43440594 0.5049505  0.55693069 0.5990099\n",
      " 0.64356436 0.69183168 0.73886139 0.81930693 1.        ]\n"
     ]
    },
    {
     "data": {
      "application/vnd.plotly.v1+json": {
       "config": {
        "plotlyServerURL": "https://plot.ly"
       },
       "data": [
        {
         "mode": "lines+markers",
         "name": "connect (Proportion)",
         "showlegend": true,
         "type": "scatter",
         "x": [
          90,
          150,
          210,
          270,
          330,
          390,
          450,
          510,
          570,
          630,
          690
         ],
         "y": [
          0.18037974683544303,
          0.3022151898734177,
          0.3939873417721519,
          0.4699367088607595,
          0.504746835443038,
          0.5395569620253164,
          0.5838607594936709,
          0.6455696202531646,
          0.7136075949367089,
          0.8085443037974683,
          1
         ],
         "yaxis": "y"
        },
        {
         "line": {
          "dash": "dot"
         },
         "mode": "lines+markers",
         "name": "connect (Count)",
         "type": "scatter",
         "x": [
          90,
          150,
          210,
          270,
          330,
          390,
          450,
          510,
          570,
          630,
          690
         ],
         "y": [
          114,
          191,
          249,
          297,
          319,
          341,
          369,
          408,
          451,
          511,
          632
         ],
         "yaxis": "y2"
        },
        {
         "mode": "lines+markers",
         "name": "mobile (Proportion)",
         "showlegend": true,
         "type": "scatter",
         "x": [
          90,
          150,
          210,
          270,
          330,
          390,
          450,
          510,
          570,
          630,
          690
         ],
         "y": [
          0.18688118811881188,
          0.34405940594059403,
          0.4344059405940594,
          0.504950495049505,
          0.556930693069307,
          0.599009900990099,
          0.6435643564356436,
          0.6918316831683168,
          0.7388613861386139,
          0.8193069306930693,
          1
         ],
         "yaxis": "y"
        },
        {
         "line": {
          "dash": "dot"
         },
         "mode": "lines+markers",
         "name": "mobile (Count)",
         "type": "scatter",
         "x": [
          90,
          150,
          210,
          270,
          330,
          390,
          450,
          510,
          570,
          630,
          690
         ],
         "y": [
          151,
          278,
          351,
          408,
          450,
          484,
          520,
          559,
          597,
          662,
          808
         ],
         "yaxis": "y2"
        }
       ],
       "layout": {
        "height": 600,
        "legend": {
         "x": 0.01,
         "y": 0.99
        },
        "template": {
         "data": {
          "bar": [
           {
            "error_x": {
             "color": "#2a3f5f"
            },
            "error_y": {
             "color": "#2a3f5f"
            },
            "marker": {
             "line": {
              "color": "white",
              "width": 0.5
             },
             "pattern": {
              "fillmode": "overlay",
              "size": 10,
              "solidity": 0.2
             }
            },
            "type": "bar"
           }
          ],
          "barpolar": [
           {
            "marker": {
             "line": {
              "color": "white",
              "width": 0.5
             },
             "pattern": {
              "fillmode": "overlay",
              "size": 10,
              "solidity": 0.2
             }
            },
            "type": "barpolar"
           }
          ],
          "carpet": [
           {
            "aaxis": {
             "endlinecolor": "#2a3f5f",
             "gridcolor": "#C8D4E3",
             "linecolor": "#C8D4E3",
             "minorgridcolor": "#C8D4E3",
             "startlinecolor": "#2a3f5f"
            },
            "baxis": {
             "endlinecolor": "#2a3f5f",
             "gridcolor": "#C8D4E3",
             "linecolor": "#C8D4E3",
             "minorgridcolor": "#C8D4E3",
             "startlinecolor": "#2a3f5f"
            },
            "type": "carpet"
           }
          ],
          "choropleth": [
           {
            "colorbar": {
             "outlinewidth": 0,
             "ticks": ""
            },
            "type": "choropleth"
           }
          ],
          "contour": [
           {
            "colorbar": {
             "outlinewidth": 0,
             "ticks": ""
            },
            "colorscale": [
             [
              0,
              "#0d0887"
             ],
             [
              0.1111111111111111,
              "#46039f"
             ],
             [
              0.2222222222222222,
              "#7201a8"
             ],
             [
              0.3333333333333333,
              "#9c179e"
             ],
             [
              0.4444444444444444,
              "#bd3786"
             ],
             [
              0.5555555555555556,
              "#d8576b"
             ],
             [
              0.6666666666666666,
              "#ed7953"
             ],
             [
              0.7777777777777778,
              "#fb9f3a"
             ],
             [
              0.8888888888888888,
              "#fdca26"
             ],
             [
              1,
              "#f0f921"
             ]
            ],
            "type": "contour"
           }
          ],
          "contourcarpet": [
           {
            "colorbar": {
             "outlinewidth": 0,
             "ticks": ""
            },
            "type": "contourcarpet"
           }
          ],
          "heatmap": [
           {
            "colorbar": {
             "outlinewidth": 0,
             "ticks": ""
            },
            "colorscale": [
             [
              0,
              "#0d0887"
             ],
             [
              0.1111111111111111,
              "#46039f"
             ],
             [
              0.2222222222222222,
              "#7201a8"
             ],
             [
              0.3333333333333333,
              "#9c179e"
             ],
             [
              0.4444444444444444,
              "#bd3786"
             ],
             [
              0.5555555555555556,
              "#d8576b"
             ],
             [
              0.6666666666666666,
              "#ed7953"
             ],
             [
              0.7777777777777778,
              "#fb9f3a"
             ],
             [
              0.8888888888888888,
              "#fdca26"
             ],
             [
              1,
              "#f0f921"
             ]
            ],
            "type": "heatmap"
           }
          ],
          "heatmapgl": [
           {
            "colorbar": {
             "outlinewidth": 0,
             "ticks": ""
            },
            "colorscale": [
             [
              0,
              "#0d0887"
             ],
             [
              0.1111111111111111,
              "#46039f"
             ],
             [
              0.2222222222222222,
              "#7201a8"
             ],
             [
              0.3333333333333333,
              "#9c179e"
             ],
             [
              0.4444444444444444,
              "#bd3786"
             ],
             [
              0.5555555555555556,
              "#d8576b"
             ],
             [
              0.6666666666666666,
              "#ed7953"
             ],
             [
              0.7777777777777778,
              "#fb9f3a"
             ],
             [
              0.8888888888888888,
              "#fdca26"
             ],
             [
              1,
              "#f0f921"
             ]
            ],
            "type": "heatmapgl"
           }
          ],
          "histogram": [
           {
            "marker": {
             "pattern": {
              "fillmode": "overlay",
              "size": 10,
              "solidity": 0.2
             }
            },
            "type": "histogram"
           }
          ],
          "histogram2d": [
           {
            "colorbar": {
             "outlinewidth": 0,
             "ticks": ""
            },
            "colorscale": [
             [
              0,
              "#0d0887"
             ],
             [
              0.1111111111111111,
              "#46039f"
             ],
             [
              0.2222222222222222,
              "#7201a8"
             ],
             [
              0.3333333333333333,
              "#9c179e"
             ],
             [
              0.4444444444444444,
              "#bd3786"
             ],
             [
              0.5555555555555556,
              "#d8576b"
             ],
             [
              0.6666666666666666,
              "#ed7953"
             ],
             [
              0.7777777777777778,
              "#fb9f3a"
             ],
             [
              0.8888888888888888,
              "#fdca26"
             ],
             [
              1,
              "#f0f921"
             ]
            ],
            "type": "histogram2d"
           }
          ],
          "histogram2dcontour": [
           {
            "colorbar": {
             "outlinewidth": 0,
             "ticks": ""
            },
            "colorscale": [
             [
              0,
              "#0d0887"
             ],
             [
              0.1111111111111111,
              "#46039f"
             ],
             [
              0.2222222222222222,
              "#7201a8"
             ],
             [
              0.3333333333333333,
              "#9c179e"
             ],
             [
              0.4444444444444444,
              "#bd3786"
             ],
             [
              0.5555555555555556,
              "#d8576b"
             ],
             [
              0.6666666666666666,
              "#ed7953"
             ],
             [
              0.7777777777777778,
              "#fb9f3a"
             ],
             [
              0.8888888888888888,
              "#fdca26"
             ],
             [
              1,
              "#f0f921"
             ]
            ],
            "type": "histogram2dcontour"
           }
          ],
          "mesh3d": [
           {
            "colorbar": {
             "outlinewidth": 0,
             "ticks": ""
            },
            "type": "mesh3d"
           }
          ],
          "parcoords": [
           {
            "line": {
             "colorbar": {
              "outlinewidth": 0,
              "ticks": ""
             }
            },
            "type": "parcoords"
           }
          ],
          "pie": [
           {
            "automargin": true,
            "type": "pie"
           }
          ],
          "scatter": [
           {
            "fillpattern": {
             "fillmode": "overlay",
             "size": 10,
             "solidity": 0.2
            },
            "type": "scatter"
           }
          ],
          "scatter3d": [
           {
            "line": {
             "colorbar": {
              "outlinewidth": 0,
              "ticks": ""
             }
            },
            "marker": {
             "colorbar": {
              "outlinewidth": 0,
              "ticks": ""
             }
            },
            "type": "scatter3d"
           }
          ],
          "scattercarpet": [
           {
            "marker": {
             "colorbar": {
              "outlinewidth": 0,
              "ticks": ""
             }
            },
            "type": "scattercarpet"
           }
          ],
          "scattergeo": [
           {
            "marker": {
             "colorbar": {
              "outlinewidth": 0,
              "ticks": ""
             }
            },
            "type": "scattergeo"
           }
          ],
          "scattergl": [
           {
            "marker": {
             "colorbar": {
              "outlinewidth": 0,
              "ticks": ""
             }
            },
            "type": "scattergl"
           }
          ],
          "scattermapbox": [
           {
            "marker": {
             "colorbar": {
              "outlinewidth": 0,
              "ticks": ""
             }
            },
            "type": "scattermapbox"
           }
          ],
          "scatterpolar": [
           {
            "marker": {
             "colorbar": {
              "outlinewidth": 0,
              "ticks": ""
             }
            },
            "type": "scatterpolar"
           }
          ],
          "scatterpolargl": [
           {
            "marker": {
             "colorbar": {
              "outlinewidth": 0,
              "ticks": ""
             }
            },
            "type": "scatterpolargl"
           }
          ],
          "scatterternary": [
           {
            "marker": {
             "colorbar": {
              "outlinewidth": 0,
              "ticks": ""
             }
            },
            "type": "scatterternary"
           }
          ],
          "surface": [
           {
            "colorbar": {
             "outlinewidth": 0,
             "ticks": ""
            },
            "colorscale": [
             [
              0,
              "#0d0887"
             ],
             [
              0.1111111111111111,
              "#46039f"
             ],
             [
              0.2222222222222222,
              "#7201a8"
             ],
             [
              0.3333333333333333,
              "#9c179e"
             ],
             [
              0.4444444444444444,
              "#bd3786"
             ],
             [
              0.5555555555555556,
              "#d8576b"
             ],
             [
              0.6666666666666666,
              "#ed7953"
             ],
             [
              0.7777777777777778,
              "#fb9f3a"
             ],
             [
              0.8888888888888888,
              "#fdca26"
             ],
             [
              1,
              "#f0f921"
             ]
            ],
            "type": "surface"
           }
          ],
          "table": [
           {
            "cells": {
             "fill": {
              "color": "#EBF0F8"
             },
             "line": {
              "color": "white"
             }
            },
            "header": {
             "fill": {
              "color": "#C8D4E3"
             },
             "line": {
              "color": "white"
             }
            },
            "type": "table"
           }
          ]
         },
         "layout": {
          "annotationdefaults": {
           "arrowcolor": "#2a3f5f",
           "arrowhead": 0,
           "arrowwidth": 1
          },
          "autotypenumbers": "strict",
          "coloraxis": {
           "colorbar": {
            "outlinewidth": 0,
            "ticks": ""
           }
          },
          "colorscale": {
           "diverging": [
            [
             0,
             "#8e0152"
            ],
            [
             0.1,
             "#c51b7d"
            ],
            [
             0.2,
             "#de77ae"
            ],
            [
             0.3,
             "#f1b6da"
            ],
            [
             0.4,
             "#fde0ef"
            ],
            [
             0.5,
             "#f7f7f7"
            ],
            [
             0.6,
             "#e6f5d0"
            ],
            [
             0.7,
             "#b8e186"
            ],
            [
             0.8,
             "#7fbc41"
            ],
            [
             0.9,
             "#4d9221"
            ],
            [
             1,
             "#276419"
            ]
           ],
           "sequential": [
            [
             0,
             "#0d0887"
            ],
            [
             0.1111111111111111,
             "#46039f"
            ],
            [
             0.2222222222222222,
             "#7201a8"
            ],
            [
             0.3333333333333333,
             "#9c179e"
            ],
            [
             0.4444444444444444,
             "#bd3786"
            ],
            [
             0.5555555555555556,
             "#d8576b"
            ],
            [
             0.6666666666666666,
             "#ed7953"
            ],
            [
             0.7777777777777778,
             "#fb9f3a"
            ],
            [
             0.8888888888888888,
             "#fdca26"
            ],
            [
             1,
             "#f0f921"
            ]
           ],
           "sequentialminus": [
            [
             0,
             "#0d0887"
            ],
            [
             0.1111111111111111,
             "#46039f"
            ],
            [
             0.2222222222222222,
             "#7201a8"
            ],
            [
             0.3333333333333333,
             "#9c179e"
            ],
            [
             0.4444444444444444,
             "#bd3786"
            ],
            [
             0.5555555555555556,
             "#d8576b"
            ],
            [
             0.6666666666666666,
             "#ed7953"
            ],
            [
             0.7777777777777778,
             "#fb9f3a"
            ],
            [
             0.8888888888888888,
             "#fdca26"
            ],
            [
             1,
             "#f0f921"
            ]
           ]
          },
          "colorway": [
           "#636efa",
           "#EF553B",
           "#00cc96",
           "#ab63fa",
           "#FFA15A",
           "#19d3f3",
           "#FF6692",
           "#B6E880",
           "#FF97FF",
           "#FECB52"
          ],
          "font": {
           "color": "#2a3f5f"
          },
          "geo": {
           "bgcolor": "white",
           "lakecolor": "white",
           "landcolor": "white",
           "showlakes": true,
           "showland": true,
           "subunitcolor": "#C8D4E3"
          },
          "hoverlabel": {
           "align": "left"
          },
          "hovermode": "closest",
          "mapbox": {
           "style": "light"
          },
          "paper_bgcolor": "white",
          "plot_bgcolor": "white",
          "polar": {
           "angularaxis": {
            "gridcolor": "#EBF0F8",
            "linecolor": "#EBF0F8",
            "ticks": ""
           },
           "bgcolor": "white",
           "radialaxis": {
            "gridcolor": "#EBF0F8",
            "linecolor": "#EBF0F8",
            "ticks": ""
           }
          },
          "scene": {
           "xaxis": {
            "backgroundcolor": "white",
            "gridcolor": "#DFE8F3",
            "gridwidth": 2,
            "linecolor": "#EBF0F8",
            "showbackground": true,
            "ticks": "",
            "zerolinecolor": "#EBF0F8"
           },
           "yaxis": {
            "backgroundcolor": "white",
            "gridcolor": "#DFE8F3",
            "gridwidth": 2,
            "linecolor": "#EBF0F8",
            "showbackground": true,
            "ticks": "",
            "zerolinecolor": "#EBF0F8"
           },
           "zaxis": {
            "backgroundcolor": "white",
            "gridcolor": "#DFE8F3",
            "gridwidth": 2,
            "linecolor": "#EBF0F8",
            "showbackground": true,
            "ticks": "",
            "zerolinecolor": "#EBF0F8"
           }
          },
          "shapedefaults": {
           "line": {
            "color": "#2a3f5f"
           }
          },
          "ternary": {
           "aaxis": {
            "gridcolor": "#DFE8F3",
            "linecolor": "#A2B1C6",
            "ticks": ""
           },
           "baxis": {
            "gridcolor": "#DFE8F3",
            "linecolor": "#A2B1C6",
            "ticks": ""
           },
           "bgcolor": "white",
           "caxis": {
            "gridcolor": "#DFE8F3",
            "linecolor": "#A2B1C6",
            "ticks": ""
           }
          },
          "title": {
           "x": 0.05
          },
          "xaxis": {
           "automargin": true,
           "gridcolor": "#EBF0F8",
           "linecolor": "#EBF0F8",
           "ticks": "",
           "title": {
            "standoff": 15
           },
           "zerolinecolor": "#EBF0F8",
           "zerolinewidth": 2
          },
          "yaxis": {
           "automargin": true,
           "gridcolor": "#EBF0F8",
           "linecolor": "#EBF0F8",
           "ticks": "",
           "title": {
            "standoff": 15
           },
           "zerolinecolor": "#EBF0F8",
           "zerolinewidth": 2
          }
         }
        },
        "title": {
         "text": "Cumulative Distribution of rentals affected by Threshold"
        },
        "width": 800,
        "xaxis": {
         "title": {
          "text": "Threshold - Time delta with previous rental (minutes)"
         }
        },
        "yaxis": {
         "range": [
          0,
          1
         ],
         "side": "left",
         "tickformat": ".0%",
         "title": {
          "text": "Cumulative Proportion"
         }
        },
        "yaxis2": {
         "overlaying": "y",
         "showgrid": false,
         "side": "right",
         "title": {
          "text": "Cumulative count"
         }
        }
       }
      }
     },
     "metadata": {},
     "output_type": "display_data"
    }
   ],
   "source": [
    "from plotly.subplots import make_subplots\n",
    "\n",
    "n = 12  # Number of values\n",
    "step = 60\n",
    "custom_bins = np.arange(step, (n + 1) * step, step)\n",
    "bin_midpoints = 0.5 * (custom_bins[:-1] + custom_bins[1:])\n",
    "\n",
    "# Prepare subplot layout\n",
    "scopes = sorted(delay_analysis_dtf[\"checkin_type\"].unique())\n",
    "n_rows = len(scopes)\n",
    "\n",
    "fig = go.Figure()\n",
    "\n",
    "# Add traces\n",
    "for i, scope in enumerate(scopes):\n",
    "    data = delay_analysis_delta_with_previous_dtf[delay_analysis_delta_with_previous_dtf[\"checkin_type\"] == scope][\"time_delta_with_previous_rental_in_minutes\"]\n",
    "    #counts, _ = np.histogram(data, bins=custom_bins, density=False)\n",
    "    hist, _ = np.histogram(data, bins=custom_bins, density=False)\n",
    "    #proportions = counts / counts.sum()\n",
    "    #cumulative = np.cumsum(proportions)\n",
    "    cumulative_counts = np.cumsum(hist)\n",
    "    proportions = cumulative_counts / cumulative_counts[-1]  # Normalize to 1\n",
    "\n",
    "    print(\"cumulative_counts\")\n",
    "    print(cumulative_counts)\n",
    "\n",
    "    print(\"proportions\")\n",
    "    print(proportions)\n",
    "    fig.add_trace(\n",
    "        go.Scatter(\n",
    "            x=bin_midpoints,\n",
    "            y=proportions,\n",
    "            mode='lines+markers',\n",
    "            name=f\"{scope} (Proportion)\",\n",
    "            yaxis=\"y1\",\n",
    "            showlegend=True,\n",
    "        )\n",
    "    )\n",
    "\n",
    "    # Secondary Y-Axis (Proportion × constant)\n",
    "    fig.add_trace(go.Scatter(\n",
    "        x=bin_midpoints,\n",
    "        y=cumulative_counts,\n",
    "        name=f\"{scope} (Count)\",\n",
    "        yaxis=\"y2\",\n",
    "        mode=\"lines+markers\",\n",
    "        line=dict(dash='dot')\n",
    "    ),\n",
    "    )\n",
    "\n",
    "# Layout\n",
    "fig.update_layout(\n",
    "    height= 300 * n_rows,\n",
    "    width = 800,\n",
    "    yaxis=dict(title=\"Proportion\", tickformat=\".0%\", range=[0, 1], side='left'),\n",
    "    yaxis2=dict(\n",
    "        title=\"Cumulative count\",\n",
    "        overlaying=\"y\",\n",
    "        side=\"right\", showgrid=False\n",
    "    ),\n",
    "    title_text=\"Cumulative Distribution of rentals affected by Threshold\",\n",
    "    xaxis_title=\"Threshold - Time delta with previous rental (minutes)\",\n",
    "    yaxis_title=\"Cumulative Proportion\",\n",
    "    template=\"plotly_white\",\n",
    "    legend=dict(x=0.01, y=0.99),\n",
    ")\n",
    "\n",
    "fig.show()"
   ]
  },
  {
   "cell_type": "code",
   "execution_count": 28,
   "id": "edcca296",
   "metadata": {},
   "outputs": [
    {
     "data": {
      "application/vnd.plotly.v1+json": {
       "config": {
        "plotlyServerURL": "https://plot.ly"
       },
       "data": [
        {
         "mode": "lines+markers",
         "name": "connect",
         "showlegend": true,
         "type": "scatter",
         "x": [
          90,
          150,
          210,
          270,
          330,
          390,
          450,
          510,
          570,
          630,
          690
         ],
         "xaxis": "x",
         "y": [
          114,
          191,
          249,
          297,
          319,
          341,
          369,
          408,
          451,
          511,
          632
         ],
         "yaxis": "y"
        },
        {
         "mode": "lines+markers",
         "name": "mobile",
         "showlegend": true,
         "type": "scatter",
         "x": [
          90,
          150,
          210,
          270,
          330,
          390,
          450,
          510,
          570,
          630,
          690
         ],
         "xaxis": "x2",
         "y": [
          151,
          278,
          351,
          408,
          450,
          484,
          520,
          559,
          597,
          662,
          808
         ],
         "yaxis": "y2"
        }
       ],
       "layout": {
        "annotations": [
         {
          "font": {
           "size": 16
          },
          "showarrow": false,
          "text": "connect",
          "x": 0.5,
          "xanchor": "center",
          "xref": "paper",
          "y": 1,
          "yanchor": "bottom",
          "yref": "paper"
         },
         {
          "font": {
           "size": 16
          },
          "showarrow": false,
          "text": "mobile",
          "x": 0.5,
          "xanchor": "center",
          "xref": "paper",
          "y": 0.375,
          "yanchor": "bottom",
          "yref": "paper"
         }
        ],
        "height": 600,
        "template": {
         "data": {
          "bar": [
           {
            "error_x": {
             "color": "#2a3f5f"
            },
            "error_y": {
             "color": "#2a3f5f"
            },
            "marker": {
             "line": {
              "color": "white",
              "width": 0.5
             },
             "pattern": {
              "fillmode": "overlay",
              "size": 10,
              "solidity": 0.2
             }
            },
            "type": "bar"
           }
          ],
          "barpolar": [
           {
            "marker": {
             "line": {
              "color": "white",
              "width": 0.5
             },
             "pattern": {
              "fillmode": "overlay",
              "size": 10,
              "solidity": 0.2
             }
            },
            "type": "barpolar"
           }
          ],
          "carpet": [
           {
            "aaxis": {
             "endlinecolor": "#2a3f5f",
             "gridcolor": "#C8D4E3",
             "linecolor": "#C8D4E3",
             "minorgridcolor": "#C8D4E3",
             "startlinecolor": "#2a3f5f"
            },
            "baxis": {
             "endlinecolor": "#2a3f5f",
             "gridcolor": "#C8D4E3",
             "linecolor": "#C8D4E3",
             "minorgridcolor": "#C8D4E3",
             "startlinecolor": "#2a3f5f"
            },
            "type": "carpet"
           }
          ],
          "choropleth": [
           {
            "colorbar": {
             "outlinewidth": 0,
             "ticks": ""
            },
            "type": "choropleth"
           }
          ],
          "contour": [
           {
            "colorbar": {
             "outlinewidth": 0,
             "ticks": ""
            },
            "colorscale": [
             [
              0,
              "#0d0887"
             ],
             [
              0.1111111111111111,
              "#46039f"
             ],
             [
              0.2222222222222222,
              "#7201a8"
             ],
             [
              0.3333333333333333,
              "#9c179e"
             ],
             [
              0.4444444444444444,
              "#bd3786"
             ],
             [
              0.5555555555555556,
              "#d8576b"
             ],
             [
              0.6666666666666666,
              "#ed7953"
             ],
             [
              0.7777777777777778,
              "#fb9f3a"
             ],
             [
              0.8888888888888888,
              "#fdca26"
             ],
             [
              1,
              "#f0f921"
             ]
            ],
            "type": "contour"
           }
          ],
          "contourcarpet": [
           {
            "colorbar": {
             "outlinewidth": 0,
             "ticks": ""
            },
            "type": "contourcarpet"
           }
          ],
          "heatmap": [
           {
            "colorbar": {
             "outlinewidth": 0,
             "ticks": ""
            },
            "colorscale": [
             [
              0,
              "#0d0887"
             ],
             [
              0.1111111111111111,
              "#46039f"
             ],
             [
              0.2222222222222222,
              "#7201a8"
             ],
             [
              0.3333333333333333,
              "#9c179e"
             ],
             [
              0.4444444444444444,
              "#bd3786"
             ],
             [
              0.5555555555555556,
              "#d8576b"
             ],
             [
              0.6666666666666666,
              "#ed7953"
             ],
             [
              0.7777777777777778,
              "#fb9f3a"
             ],
             [
              0.8888888888888888,
              "#fdca26"
             ],
             [
              1,
              "#f0f921"
             ]
            ],
            "type": "heatmap"
           }
          ],
          "heatmapgl": [
           {
            "colorbar": {
             "outlinewidth": 0,
             "ticks": ""
            },
            "colorscale": [
             [
              0,
              "#0d0887"
             ],
             [
              0.1111111111111111,
              "#46039f"
             ],
             [
              0.2222222222222222,
              "#7201a8"
             ],
             [
              0.3333333333333333,
              "#9c179e"
             ],
             [
              0.4444444444444444,
              "#bd3786"
             ],
             [
              0.5555555555555556,
              "#d8576b"
             ],
             [
              0.6666666666666666,
              "#ed7953"
             ],
             [
              0.7777777777777778,
              "#fb9f3a"
             ],
             [
              0.8888888888888888,
              "#fdca26"
             ],
             [
              1,
              "#f0f921"
             ]
            ],
            "type": "heatmapgl"
           }
          ],
          "histogram": [
           {
            "marker": {
             "pattern": {
              "fillmode": "overlay",
              "size": 10,
              "solidity": 0.2
             }
            },
            "type": "histogram"
           }
          ],
          "histogram2d": [
           {
            "colorbar": {
             "outlinewidth": 0,
             "ticks": ""
            },
            "colorscale": [
             [
              0,
              "#0d0887"
             ],
             [
              0.1111111111111111,
              "#46039f"
             ],
             [
              0.2222222222222222,
              "#7201a8"
             ],
             [
              0.3333333333333333,
              "#9c179e"
             ],
             [
              0.4444444444444444,
              "#bd3786"
             ],
             [
              0.5555555555555556,
              "#d8576b"
             ],
             [
              0.6666666666666666,
              "#ed7953"
             ],
             [
              0.7777777777777778,
              "#fb9f3a"
             ],
             [
              0.8888888888888888,
              "#fdca26"
             ],
             [
              1,
              "#f0f921"
             ]
            ],
            "type": "histogram2d"
           }
          ],
          "histogram2dcontour": [
           {
            "colorbar": {
             "outlinewidth": 0,
             "ticks": ""
            },
            "colorscale": [
             [
              0,
              "#0d0887"
             ],
             [
              0.1111111111111111,
              "#46039f"
             ],
             [
              0.2222222222222222,
              "#7201a8"
             ],
             [
              0.3333333333333333,
              "#9c179e"
             ],
             [
              0.4444444444444444,
              "#bd3786"
             ],
             [
              0.5555555555555556,
              "#d8576b"
             ],
             [
              0.6666666666666666,
              "#ed7953"
             ],
             [
              0.7777777777777778,
              "#fb9f3a"
             ],
             [
              0.8888888888888888,
              "#fdca26"
             ],
             [
              1,
              "#f0f921"
             ]
            ],
            "type": "histogram2dcontour"
           }
          ],
          "mesh3d": [
           {
            "colorbar": {
             "outlinewidth": 0,
             "ticks": ""
            },
            "type": "mesh3d"
           }
          ],
          "parcoords": [
           {
            "line": {
             "colorbar": {
              "outlinewidth": 0,
              "ticks": ""
             }
            },
            "type": "parcoords"
           }
          ],
          "pie": [
           {
            "automargin": true,
            "type": "pie"
           }
          ],
          "scatter": [
           {
            "fillpattern": {
             "fillmode": "overlay",
             "size": 10,
             "solidity": 0.2
            },
            "type": "scatter"
           }
          ],
          "scatter3d": [
           {
            "line": {
             "colorbar": {
              "outlinewidth": 0,
              "ticks": ""
             }
            },
            "marker": {
             "colorbar": {
              "outlinewidth": 0,
              "ticks": ""
             }
            },
            "type": "scatter3d"
           }
          ],
          "scattercarpet": [
           {
            "marker": {
             "colorbar": {
              "outlinewidth": 0,
              "ticks": ""
             }
            },
            "type": "scattercarpet"
           }
          ],
          "scattergeo": [
           {
            "marker": {
             "colorbar": {
              "outlinewidth": 0,
              "ticks": ""
             }
            },
            "type": "scattergeo"
           }
          ],
          "scattergl": [
           {
            "marker": {
             "colorbar": {
              "outlinewidth": 0,
              "ticks": ""
             }
            },
            "type": "scattergl"
           }
          ],
          "scattermapbox": [
           {
            "marker": {
             "colorbar": {
              "outlinewidth": 0,
              "ticks": ""
             }
            },
            "type": "scattermapbox"
           }
          ],
          "scatterpolar": [
           {
            "marker": {
             "colorbar": {
              "outlinewidth": 0,
              "ticks": ""
             }
            },
            "type": "scatterpolar"
           }
          ],
          "scatterpolargl": [
           {
            "marker": {
             "colorbar": {
              "outlinewidth": 0,
              "ticks": ""
             }
            },
            "type": "scatterpolargl"
           }
          ],
          "scatterternary": [
           {
            "marker": {
             "colorbar": {
              "outlinewidth": 0,
              "ticks": ""
             }
            },
            "type": "scatterternary"
           }
          ],
          "surface": [
           {
            "colorbar": {
             "outlinewidth": 0,
             "ticks": ""
            },
            "colorscale": [
             [
              0,
              "#0d0887"
             ],
             [
              0.1111111111111111,
              "#46039f"
             ],
             [
              0.2222222222222222,
              "#7201a8"
             ],
             [
              0.3333333333333333,
              "#9c179e"
             ],
             [
              0.4444444444444444,
              "#bd3786"
             ],
             [
              0.5555555555555556,
              "#d8576b"
             ],
             [
              0.6666666666666666,
              "#ed7953"
             ],
             [
              0.7777777777777778,
              "#fb9f3a"
             ],
             [
              0.8888888888888888,
              "#fdca26"
             ],
             [
              1,
              "#f0f921"
             ]
            ],
            "type": "surface"
           }
          ],
          "table": [
           {
            "cells": {
             "fill": {
              "color": "#EBF0F8"
             },
             "line": {
              "color": "white"
             }
            },
            "header": {
             "fill": {
              "color": "#C8D4E3"
             },
             "line": {
              "color": "white"
             }
            },
            "type": "table"
           }
          ]
         },
         "layout": {
          "annotationdefaults": {
           "arrowcolor": "#2a3f5f",
           "arrowhead": 0,
           "arrowwidth": 1
          },
          "autotypenumbers": "strict",
          "coloraxis": {
           "colorbar": {
            "outlinewidth": 0,
            "ticks": ""
           }
          },
          "colorscale": {
           "diverging": [
            [
             0,
             "#8e0152"
            ],
            [
             0.1,
             "#c51b7d"
            ],
            [
             0.2,
             "#de77ae"
            ],
            [
             0.3,
             "#f1b6da"
            ],
            [
             0.4,
             "#fde0ef"
            ],
            [
             0.5,
             "#f7f7f7"
            ],
            [
             0.6,
             "#e6f5d0"
            ],
            [
             0.7,
             "#b8e186"
            ],
            [
             0.8,
             "#7fbc41"
            ],
            [
             0.9,
             "#4d9221"
            ],
            [
             1,
             "#276419"
            ]
           ],
           "sequential": [
            [
             0,
             "#0d0887"
            ],
            [
             0.1111111111111111,
             "#46039f"
            ],
            [
             0.2222222222222222,
             "#7201a8"
            ],
            [
             0.3333333333333333,
             "#9c179e"
            ],
            [
             0.4444444444444444,
             "#bd3786"
            ],
            [
             0.5555555555555556,
             "#d8576b"
            ],
            [
             0.6666666666666666,
             "#ed7953"
            ],
            [
             0.7777777777777778,
             "#fb9f3a"
            ],
            [
             0.8888888888888888,
             "#fdca26"
            ],
            [
             1,
             "#f0f921"
            ]
           ],
           "sequentialminus": [
            [
             0,
             "#0d0887"
            ],
            [
             0.1111111111111111,
             "#46039f"
            ],
            [
             0.2222222222222222,
             "#7201a8"
            ],
            [
             0.3333333333333333,
             "#9c179e"
            ],
            [
             0.4444444444444444,
             "#bd3786"
            ],
            [
             0.5555555555555556,
             "#d8576b"
            ],
            [
             0.6666666666666666,
             "#ed7953"
            ],
            [
             0.7777777777777778,
             "#fb9f3a"
            ],
            [
             0.8888888888888888,
             "#fdca26"
            ],
            [
             1,
             "#f0f921"
            ]
           ]
          },
          "colorway": [
           "#636efa",
           "#EF553B",
           "#00cc96",
           "#ab63fa",
           "#FFA15A",
           "#19d3f3",
           "#FF6692",
           "#B6E880",
           "#FF97FF",
           "#FECB52"
          ],
          "font": {
           "color": "#2a3f5f"
          },
          "geo": {
           "bgcolor": "white",
           "lakecolor": "white",
           "landcolor": "white",
           "showlakes": true,
           "showland": true,
           "subunitcolor": "#C8D4E3"
          },
          "hoverlabel": {
           "align": "left"
          },
          "hovermode": "closest",
          "mapbox": {
           "style": "light"
          },
          "paper_bgcolor": "white",
          "plot_bgcolor": "white",
          "polar": {
           "angularaxis": {
            "gridcolor": "#EBF0F8",
            "linecolor": "#EBF0F8",
            "ticks": ""
           },
           "bgcolor": "white",
           "radialaxis": {
            "gridcolor": "#EBF0F8",
            "linecolor": "#EBF0F8",
            "ticks": ""
           }
          },
          "scene": {
           "xaxis": {
            "backgroundcolor": "white",
            "gridcolor": "#DFE8F3",
            "gridwidth": 2,
            "linecolor": "#EBF0F8",
            "showbackground": true,
            "ticks": "",
            "zerolinecolor": "#EBF0F8"
           },
           "yaxis": {
            "backgroundcolor": "white",
            "gridcolor": "#DFE8F3",
            "gridwidth": 2,
            "linecolor": "#EBF0F8",
            "showbackground": true,
            "ticks": "",
            "zerolinecolor": "#EBF0F8"
           },
           "zaxis": {
            "backgroundcolor": "white",
            "gridcolor": "#DFE8F3",
            "gridwidth": 2,
            "linecolor": "#EBF0F8",
            "showbackground": true,
            "ticks": "",
            "zerolinecolor": "#EBF0F8"
           }
          },
          "shapedefaults": {
           "line": {
            "color": "#2a3f5f"
           }
          },
          "ternary": {
           "aaxis": {
            "gridcolor": "#DFE8F3",
            "linecolor": "#A2B1C6",
            "ticks": ""
           },
           "baxis": {
            "gridcolor": "#DFE8F3",
            "linecolor": "#A2B1C6",
            "ticks": ""
           },
           "bgcolor": "white",
           "caxis": {
            "gridcolor": "#DFE8F3",
            "linecolor": "#A2B1C6",
            "ticks": ""
           }
          },
          "title": {
           "x": 0.05
          },
          "xaxis": {
           "automargin": true,
           "gridcolor": "#EBF0F8",
           "linecolor": "#EBF0F8",
           "ticks": "",
           "title": {
            "standoff": 15
           },
           "zerolinecolor": "#EBF0F8",
           "zerolinewidth": 2
          },
          "yaxis": {
           "automargin": true,
           "gridcolor": "#EBF0F8",
           "linecolor": "#EBF0F8",
           "ticks": "",
           "title": {
            "standoff": 15
           },
           "zerolinecolor": "#EBF0F8",
           "zerolinewidth": 2
          }
         }
        },
        "title": {
         "text": "Cumulative Distribution of rentals affected by Threshold by scope"
        },
        "width": 800,
        "xaxis": {
         "anchor": "y",
         "domain": [
          0,
          1
         ],
         "matches": "x2",
         "showticklabels": false,
         "title": {
          "text": "Threshold - Time delta with previous rental (minutes)"
         }
        },
        "xaxis2": {
         "anchor": "y2",
         "domain": [
          0,
          1
         ]
        },
        "yaxis": {
         "anchor": "x",
         "domain": [
          0.625,
          1
         ],
         "title": {
          "text": "Cumulative count"
         }
        },
        "yaxis2": {
         "anchor": "x2",
         "domain": [
          0,
          0.375
         ]
        }
       }
      }
     },
     "metadata": {},
     "output_type": "display_data"
    }
   ],
   "source": [
    "from plotly.subplots import make_subplots\n",
    "\n",
    "n = 12  # Number of values\n",
    "step = 60\n",
    "custom_bins = np.arange(step, (n + 1) * step, step)\n",
    "bin_midpoints = 0.5 * (custom_bins[:-1] + custom_bins[1:])\n",
    "\n",
    "# Prepare subplot layout\n",
    "scopes = sorted(delay_analysis_dtf[\"checkin_type\"].unique())\n",
    "n_rows = len(scopes)\n",
    "\n",
    "fig = make_subplots(\n",
    "    rows=n_rows,\n",
    "    cols=1,\n",
    "    shared_xaxes=True,\n",
    "    subplot_titles=[scope for scope in scopes]\n",
    ")\n",
    "\n",
    "# Add traces\n",
    "for i, scope in enumerate(scopes):\n",
    "    data = delay_analysis_delta_with_previous_dtf[delay_analysis_delta_with_previous_dtf[\"checkin_type\"] == scope][\"time_delta_with_previous_rental_in_minutes\"]\n",
    "    hist, _ = np.histogram(data, bins=custom_bins, density=False)\n",
    "    cumulative_counts = np.cumsum(hist)\n",
    "    proportions = cumulative_counts / cumulative_counts[-1]  # Normalize to 1\n",
    "\n",
    "    fig.add_trace(\n",
    "        go.Scatter(\n",
    "            x=bin_midpoints,\n",
    "            y=cumulative_counts,\n",
    "            mode='lines+markers',\n",
    "            name=scope,\n",
    "            showlegend=True\n",
    "        ),\n",
    "        row=i+1,\n",
    "        col=1\n",
    "    )\n",
    "\n",
    "# Layout\n",
    "fig.update_layout(\n",
    "    height=300 * n_rows,\n",
    "    width=800,\n",
    "    title_text=\"Cumulative Distribution of rentals affected by Threshold by scope\",\n",
    "    xaxis_title=\"Threshold - Time delta with previous rental (minutes)\",\n",
    "    yaxis_title=\"Cumulative count\",\n",
    "    template=\"plotly_white\"\n",
    ")\n",
    "\n",
    "fig.show()\n"
   ]
  },
  {
   "cell_type": "markdown",
   "id": "8363847a",
   "metadata": {},
   "source": [
    "### How often are drivers late for the next check-in? How does it impact the next driver? ###"
   ]
  },
  {
   "cell_type": "markdown",
   "id": "252c8ba8",
   "metadata": {},
   "source": [
    "\n",
    "If we take a rental with previous_ended_rental_id not null, then if we look-up rental with rental_id equals to previous_ended_rental_id and with delay_at_checkout_in_minutes > 0, it means previous driver completed the check-out\n",
    "after the planned check-out time. But it does not mean he was late for next check-in, it depends on time_delta_with_previous_rental_in_minutes (for the initial rental).\n",
    "If delay_at_checkout_in_minutes (for previous rental) > 0  and delay_at_checkout_in_minutes (for previous rental) > time_delta_with_previous_rental_in_minutes (for the previous next rental), it means driver of previous rental was late for next check-in.\n"
   ]
  },
  {
   "cell_type": "markdown",
   "id": "1da3d661",
   "metadata": {},
   "source": [
    "#### 1. How often are drivers late for the next check-in? ####"
   ]
  },
  {
   "cell_type": "markdown",
   "id": "e6a439ba",
   "metadata": {},
   "source": [
    "We are computing the proportion of drivers late for next check-in (number of drivers late for next-checkin divided by the number of drivers with a next check-in)"
   ]
  },
  {
   "cell_type": "code",
   "execution_count": 29,
   "id": "05abeb41",
   "metadata": {},
   "outputs": [
    {
     "name": "stdout",
     "output_type": "stream",
     "text": [
      "Count of rentals with previous rental : 1841\n",
      "Proportion (%) of rentals with previous rental : 8.64\n",
      "proportion (%) of drivers late for next check-in : 11.84\n"
     ]
    },
    {
     "data": {
      "text/html": [
       "<div>\n",
       "<style scoped>\n",
       "    .dataframe tbody tr th:only-of-type {\n",
       "        vertical-align: middle;\n",
       "    }\n",
       "\n",
       "    .dataframe tbody tr th {\n",
       "        vertical-align: top;\n",
       "    }\n",
       "\n",
       "    .dataframe thead th {\n",
       "        text-align: right;\n",
       "    }\n",
       "</style>\n",
       "<table border=\"1\" class=\"dataframe\">\n",
       "  <thead>\n",
       "    <tr style=\"text-align: right;\">\n",
       "      <th></th>\n",
       "      <th>rental_id_previous</th>\n",
       "      <th>car_id_previous</th>\n",
       "      <th>checkin_type_previous</th>\n",
       "      <th>state_previous</th>\n",
       "      <th>delay_at_checkout_in_minutes_previous</th>\n",
       "      <th>previous_ended_rental_id_previous</th>\n",
       "      <th>time_delta_with_previous_rental_in_minutes_previous</th>\n",
       "      <th>rental_id_next</th>\n",
       "      <th>car_id_next</th>\n",
       "      <th>checkin_type_next</th>\n",
       "      <th>state_next</th>\n",
       "      <th>delay_at_checkout_in_minutes_next</th>\n",
       "      <th>previous_ended_rental_id_next</th>\n",
       "      <th>time_delta_with_previous_rental_in_minutes_next</th>\n",
       "    </tr>\n",
       "  </thead>\n",
       "  <tbody>\n",
       "    <tr>\n",
       "      <th>2</th>\n",
       "      <td>536343</td>\n",
       "      <td>369230</td>\n",
       "      <td>mobile</td>\n",
       "      <td>ended</td>\n",
       "      <td>780.0</td>\n",
       "      <td>NaN</td>\n",
       "      <td>NaN</td>\n",
       "      <td>536315</td>\n",
       "      <td>369230</td>\n",
       "      <td>mobile</td>\n",
       "      <td>ended</td>\n",
       "      <td>-191.0</td>\n",
       "      <td>536343.0</td>\n",
       "      <td>720.0</td>\n",
       "    </tr>\n",
       "    <tr>\n",
       "      <th>3</th>\n",
       "      <td>536978</td>\n",
       "      <td>378931</td>\n",
       "      <td>mobile</td>\n",
       "      <td>ended</td>\n",
       "      <td>271.0</td>\n",
       "      <td>NaN</td>\n",
       "      <td>NaN</td>\n",
       "      <td>544473</td>\n",
       "      <td>378931</td>\n",
       "      <td>mobile</td>\n",
       "      <td>ended</td>\n",
       "      <td>-4.0</td>\n",
       "      <td>536978.0</td>\n",
       "      <td>60.0</td>\n",
       "    </tr>\n",
       "    <tr>\n",
       "      <th>6</th>\n",
       "      <td>541444</td>\n",
       "      <td>397413</td>\n",
       "      <td>mobile</td>\n",
       "      <td>ended</td>\n",
       "      <td>901.0</td>\n",
       "      <td>NaN</td>\n",
       "      <td>NaN</td>\n",
       "      <td>543665</td>\n",
       "      <td>397413</td>\n",
       "      <td>mobile</td>\n",
       "      <td>ended</td>\n",
       "      <td>7.0</td>\n",
       "      <td>541444.0</td>\n",
       "      <td>30.0</td>\n",
       "    </tr>\n",
       "    <tr>\n",
       "      <th>7</th>\n",
       "      <td>544443</td>\n",
       "      <td>337047</td>\n",
       "      <td>mobile</td>\n",
       "      <td>ended</td>\n",
       "      <td>56.0</td>\n",
       "      <td>NaN</td>\n",
       "      <td>NaN</td>\n",
       "      <td>547047</td>\n",
       "      <td>337047</td>\n",
       "      <td>mobile</td>\n",
       "      <td>ended</td>\n",
       "      <td>-53.0</td>\n",
       "      <td>544443.0</td>\n",
       "      <td>30.0</td>\n",
       "    </tr>\n",
       "    <tr>\n",
       "      <th>8</th>\n",
       "      <td>545064</td>\n",
       "      <td>194343</td>\n",
       "      <td>connect</td>\n",
       "      <td>ended</td>\n",
       "      <td>74.0</td>\n",
       "      <td>NaN</td>\n",
       "      <td>NaN</td>\n",
       "      <td>547783</td>\n",
       "      <td>194343</td>\n",
       "      <td>connect</td>\n",
       "      <td>ended</td>\n",
       "      <td>-61.0</td>\n",
       "      <td>545064.0</td>\n",
       "      <td>30.0</td>\n",
       "    </tr>\n",
       "  </tbody>\n",
       "</table>\n",
       "</div>"
      ],
      "text/plain": [
       "   rental_id_previous  car_id_previous checkin_type_previous state_previous  \\\n",
       "2              536343           369230                mobile          ended   \n",
       "3              536978           378931                mobile          ended   \n",
       "6              541444           397413                mobile          ended   \n",
       "7              544443           337047                mobile          ended   \n",
       "8              545064           194343               connect          ended   \n",
       "\n",
       "   delay_at_checkout_in_minutes_previous  previous_ended_rental_id_previous  \\\n",
       "2                                  780.0                                NaN   \n",
       "3                                  271.0                                NaN   \n",
       "6                                  901.0                                NaN   \n",
       "7                                   56.0                                NaN   \n",
       "8                                   74.0                                NaN   \n",
       "\n",
       "   time_delta_with_previous_rental_in_minutes_previous  rental_id_next  \\\n",
       "2                                                NaN            536315   \n",
       "3                                                NaN            544473   \n",
       "6                                                NaN            543665   \n",
       "7                                                NaN            547047   \n",
       "8                                                NaN            547783   \n",
       "\n",
       "   car_id_next checkin_type_next state_next  \\\n",
       "2       369230            mobile      ended   \n",
       "3       378931            mobile      ended   \n",
       "6       397413            mobile      ended   \n",
       "7       337047            mobile      ended   \n",
       "8       194343           connect      ended   \n",
       "\n",
       "   delay_at_checkout_in_minutes_next  previous_ended_rental_id_next  \\\n",
       "2                             -191.0                       536343.0   \n",
       "3                               -4.0                       536978.0   \n",
       "6                                7.0                       541444.0   \n",
       "7                              -53.0                       544443.0   \n",
       "8                              -61.0                       545064.0   \n",
       "\n",
       "   time_delta_with_previous_rental_in_minutes_next  \n",
       "2                                            720.0  \n",
       "3                                             60.0  \n",
       "6                                             30.0  \n",
       "7                                             30.0  \n",
       "8                                             30.0  "
      ]
     },
     "execution_count": 29,
     "metadata": {},
     "output_type": "execute_result"
    }
   ],
   "source": [
    "rentals_with_previous_rental = delay_analysis_dtf.loc[delay_analysis_dtf['previous_ended_rental_id'].notnull()]\n",
    "print(f'Count of rentals with previous rental : {rentals_with_previous_rental.shape[0]}')\n",
    "print(f'Proportion (%) of rentals with previous rental : {format_decimals(100*rentals_with_previous_rental.shape[0]/delay_analysis_dtf.shape[0],2)}')\n",
    "rentals_with_delay_checkout_dtf = delay_analysis_dtf.loc[delay_analysis_dtf['delay_at_checkout_in_minutes'] > 0 ]\n",
    "\n",
    "drivers_late_next_checking_dtf = pd.merge(rentals_with_delay_checkout_dtf,rentals_with_previous_rental, left_on=['rental_id'], right_on=['previous_ended_rental_id'], how='inner', suffixes=['_previous', '_next'])\n",
    "drivers_late_next_checking_dtf = drivers_late_next_checking_dtf.loc[drivers_late_next_checking_dtf['delay_at_checkout_in_minutes_previous'] > drivers_late_next_checking_dtf['time_delta_with_previous_rental_in_minutes_next']]\n",
    "print(f'proportion (%) of drivers late for next check-in : {format_decimals(100*drivers_late_next_checking_dtf.shape[0]/rentals_with_previous_rental.shape[0],2)}')\n",
    "drivers_late_next_checking_dtf.head(5)"
   ]
  },
  {
   "cell_type": "markdown",
   "id": "4fbe40a0",
   "metadata": {},
   "source": [
    "#### 2.How does it impact the next driver? ####"
   ]
  },
  {
   "cell_type": "markdown",
   "id": "5675ad6e",
   "metadata": {},
   "source": [
    "When drivers are late for next check-in, do next drivers tend to reduce their rental duration / check-out in advance ? What are the proportion of next drivers cancelling their rental ?\n",
    "Are scope / checkin types equally reprensented within drivers with late check-in ?\n",
    "Does it impact next next rental ?\n",
    "Next, we calculate some figures to help answer this questions comparing with the same figures calculated over the dataset of rentals with a previous/next rental"
   ]
  },
  {
   "cell_type": "code",
   "execution_count": 30,
   "id": "3b6a427a",
   "metadata": {},
   "outputs": [
    {
     "name": "stdout",
     "output_type": "stream",
     "text": [
      "21\n"
     ]
    },
    {
     "data": {
      "text/plain": [
       "3"
      ]
     },
     "execution_count": 30,
     "metadata": {},
     "output_type": "execute_result"
    }
   ],
   "source": [
    "# 1. rental with Driver late for next_checkin 2. next rental 3. next next rental\n",
    "next_drivers_with_next_drivers_dtf = pd.merge(drivers_late_next_checking_dtf, rentals_with_previous_rental, left_on='rental_id_next', right_on='previous_ended_rental_id', how='inner', suffixes=['','_next_next'])\n",
    "print(next_drivers_with_next_drivers_dtf.shape[0])\n",
    "#next_drivers_with_next_drivers_dtf.head(5)\n",
    "next_driver_late_next_checkin_dtf = next_drivers_with_next_drivers_dtf.loc[(next_drivers_with_next_drivers_dtf['delay_at_checkout_in_minutes_next'] > 0) & (next_drivers_with_next_drivers_dtf['delay_at_checkout_in_minutes_next'] > next_drivers_with_next_drivers_dtf['time_delta_with_previous_rental_in_minutes'])]\n",
    "next_driver_late_next_checkin_dtf.shape[0]"
   ]
  },
  {
   "cell_type": "code",
   "execution_count": 31,
   "id": "14c1f371",
   "metadata": {},
   "outputs": [
    {
     "name": "stdout",
     "output_type": "stream",
     "text": [
      "Within late drivers for next check-in\n",
      "----------------------------------------------------------------------\n",
      "proportion (%) of next drivers returning car in advance : 24.31\n",
      "proportion (%) of next drivers returning car late : 53.21\n",
      "proportion (%) of next drivers cancelling their rental : 16.97\n",
      "\n"
     ]
    },
    {
     "data": {
      "text/html": [
       "<div>\n",
       "<style scoped>\n",
       "    .dataframe tbody tr th:only-of-type {\n",
       "        vertical-align: middle;\n",
       "    }\n",
       "\n",
       "    .dataframe tbody tr th {\n",
       "        vertical-align: top;\n",
       "    }\n",
       "\n",
       "    .dataframe thead th {\n",
       "        text-align: right;\n",
       "    }\n",
       "</style>\n",
       "<table border=\"1\" class=\"dataframe\">\n",
       "  <thead>\n",
       "    <tr style=\"text-align: right;\">\n",
       "      <th></th>\n",
       "      <th>proportion</th>\n",
       "    </tr>\n",
       "    <tr>\n",
       "      <th>scope</th>\n",
       "      <th></th>\n",
       "    </tr>\n",
       "  </thead>\n",
       "  <tbody>\n",
       "    <tr>\n",
       "      <th>connect</th>\n",
       "      <td>31.651376</td>\n",
       "    </tr>\n",
       "    <tr>\n",
       "      <th>mobile</th>\n",
       "      <td>68.348624</td>\n",
       "    </tr>\n",
       "  </tbody>\n",
       "</table>\n",
       "</div>"
      ],
      "text/plain": [
       "         proportion\n",
       "scope              \n",
       "connect   31.651376\n",
       "mobile    68.348624"
      ]
     },
     "execution_count": 31,
     "metadata": {},
     "output_type": "execute_result"
    }
   ],
   "source": [
    "print('Within late drivers for next check-in')\n",
    "print('-------'*10)\n",
    "print(f'proportion (%) of next drivers returning car in advance : {format_decimals(100*drivers_late_next_checking_dtf.query(\"delay_at_checkout_in_minutes_next < 0\").shape[0]/drivers_late_next_checking_dtf.shape[0],2)}')\n",
    "print(f'proportion (%) of next drivers returning car late : {format_decimals(100*drivers_late_next_checking_dtf.query(\"delay_at_checkout_in_minutes_next > 0\").shape[0]/drivers_late_next_checking_dtf.shape[0],2)}')\n",
    "print(f'proportion (%) of next drivers cancelling their rental : {format_decimals(100*drivers_late_next_checking_dtf.query('state_next == \"canceled\"').shape[0]/drivers_late_next_checking_dtf.shape[0],2)}')\n",
    "print()\n",
    "grouped = drivers_late_next_checking_dtf.groupby(['checkin_type_previous']).size()*100/len(drivers_late_next_checking_dtf)\n",
    "grouped = grouped.reset_index()\n",
    "grouped.columns = ['scope', 'proportion']\n",
    "#grouped.columns = ['proportion']\n",
    "grouped.set_index(['scope'], inplace=True)\n",
    "grouped"
   ]
  },
  {
   "cell_type": "code",
   "execution_count": 32,
   "id": "c94bb636",
   "metadata": {},
   "outputs": [
    {
     "data": {
      "text/html": [
       "<div>\n",
       "<style scoped>\n",
       "    .dataframe tbody tr th:only-of-type {\n",
       "        vertical-align: middle;\n",
       "    }\n",
       "\n",
       "    .dataframe tbody tr th {\n",
       "        vertical-align: top;\n",
       "    }\n",
       "\n",
       "    .dataframe thead th {\n",
       "        text-align: right;\n",
       "    }\n",
       "</style>\n",
       "<table border=\"1\" class=\"dataframe\">\n",
       "  <thead>\n",
       "    <tr style=\"text-align: right;\">\n",
       "      <th></th>\n",
       "      <th>checkin_type_previous</th>\n",
       "      <th>proportion</th>\n",
       "    </tr>\n",
       "  </thead>\n",
       "  <tbody>\n",
       "    <tr>\n",
       "      <th>0</th>\n",
       "      <td>mobile</td>\n",
       "      <td>79.31</td>\n",
       "    </tr>\n",
       "    <tr>\n",
       "      <th>1</th>\n",
       "      <td>connect</td>\n",
       "      <td>20.69</td>\n",
       "    </tr>\n",
       "  </tbody>\n",
       "</table>\n",
       "</div>"
      ],
      "text/plain": [
       "  checkin_type_previous  proportion\n",
       "0                mobile       79.31\n",
       "1               connect       20.69"
      ]
     },
     "execution_count": 32,
     "metadata": {},
     "output_type": "execute_result"
    }
   ],
   "source": [
    "next_drivers_returning_late = (\n",
    "    drivers_late_next_checking_dtf.loc[drivers_late_next_checking_dtf['delay_at_checkout_in_minutes_next'] > 0]['checkin_type_previous']\n",
    "    .value_counts(normalize=True)\n",
    "    .mul(100).round(2).reset_index()\n",
    ")\n",
    "next_drivers_returning_late"
   ]
  },
  {
   "cell_type": "code",
   "execution_count": 35,
   "id": "6209a6ab",
   "metadata": {},
   "outputs": [
    {
     "data": {
      "text/html": [
       "<div>\n",
       "<style scoped>\n",
       "    .dataframe tbody tr th:only-of-type {\n",
       "        vertical-align: middle;\n",
       "    }\n",
       "\n",
       "    .dataframe tbody tr th {\n",
       "        vertical-align: top;\n",
       "    }\n",
       "\n",
       "    .dataframe thead th {\n",
       "        text-align: right;\n",
       "    }\n",
       "</style>\n",
       "<table border=\"1\" class=\"dataframe\">\n",
       "  <thead>\n",
       "    <tr style=\"text-align: right;\">\n",
       "      <th></th>\n",
       "      <th>checkin_type_previous</th>\n",
       "      <th>proportion</th>\n",
       "    </tr>\n",
       "  </thead>\n",
       "  <tbody>\n",
       "    <tr>\n",
       "      <th>0</th>\n",
       "      <td>mobile</td>\n",
       "      <td>79.31</td>\n",
       "    </tr>\n",
       "    <tr>\n",
       "      <th>1</th>\n",
       "      <td>connect</td>\n",
       "      <td>20.69</td>\n",
       "    </tr>\n",
       "  </tbody>\n",
       "</table>\n",
       "</div>"
      ],
      "text/plain": [
       "  checkin_type_previous  proportion\n",
       "0                mobile       79.31\n",
       "1               connect       20.69"
      ]
     },
     "execution_count": 35,
     "metadata": {},
     "output_type": "execute_result"
    }
   ],
   "source": [
    "next_drivers_canceling_rental = (\n",
    "    drivers_late_next_checking_dtf.loc[drivers_late_next_checking_dtf['state_next'] == 'canceled']['checkin_type_previous']\n",
    "    .value_counts(normalize=True)\n",
    "    .mul(100).round(2).reset_index()\n",
    ")\n",
    "next_drivers_returning_late"
   ]
  },
  {
   "cell_type": "code",
   "execution_count": 36,
   "id": "75271610",
   "metadata": {},
   "outputs": [
    {
     "name": "stdout",
     "output_type": "stream",
     "text": [
      "Within all rentals with previous rentals\n",
      "----------------------------------------------------------------------\n",
      "dtf len :  1841\n",
      "proportion (%) of next drivers returning car in advance : 37.97\n",
      "proportion (%) of next drivers returning car late : 43.56\n",
      "proportion (%) of next drivers cancelling their rental : 12.44\n",
      "\n"
     ]
    },
    {
     "data": {
      "text/html": [
       "<div>\n",
       "<style scoped>\n",
       "    .dataframe tbody tr th:only-of-type {\n",
       "        vertical-align: middle;\n",
       "    }\n",
       "\n",
       "    .dataframe tbody tr th {\n",
       "        vertical-align: top;\n",
       "    }\n",
       "\n",
       "    .dataframe thead th {\n",
       "        text-align: right;\n",
       "    }\n",
       "</style>\n",
       "<table border=\"1\" class=\"dataframe\">\n",
       "  <thead>\n",
       "    <tr style=\"text-align: right;\">\n",
       "      <th></th>\n",
       "      <th>scope</th>\n",
       "      <th>proportion</th>\n",
       "    </tr>\n",
       "  </thead>\n",
       "  <tbody>\n",
       "    <tr>\n",
       "      <th>0</th>\n",
       "      <td>connect</td>\n",
       "      <td>44.160782</td>\n",
       "    </tr>\n",
       "    <tr>\n",
       "      <th>1</th>\n",
       "      <td>mobile</td>\n",
       "      <td>55.839218</td>\n",
       "    </tr>\n",
       "  </tbody>\n",
       "</table>\n",
       "</div>"
      ],
      "text/plain": [
       "     scope  proportion\n",
       "0  connect   44.160782\n",
       "1   mobile   55.839218"
      ]
     },
     "execution_count": 36,
     "metadata": {},
     "output_type": "execute_result"
    }
   ],
   "source": [
    "print('Within all rentals with previous rentals')\n",
    "print('-------'*10)\n",
    "dtf = delay_analysis_dtf.loc[(delay_analysis_dtf['previous_ended_rental_id'].notnull())]\n",
    "print(\"dtf len : \", len(dtf))\n",
    "#& delay_analysis_dtf['delay_at_checkout_in_minutes'] < 0\n",
    "print(f'proportion (%) of next drivers returning car in advance : {format_decimals(100*dtf.query(\"delay_at_checkout_in_minutes < 0\").shape[0]/dtf.shape[0],2)}')\n",
    "print(f'proportion (%) of next drivers returning car late : {format_decimals(100*dtf.query(\"delay_at_checkout_in_minutes > 0\").shape[0]/dtf.shape[0],2)}')\n",
    "print(f'proportion (%) of next drivers cancelling their rental : {format_decimals(100*dtf.query('state == \"canceled\"').shape[0]/dtf.shape[0],2)}')\n",
    "print()\n",
    "grouped = dtf.groupby(['checkin_type']).size()*100/len(dtf)\n",
    "grouped = grouped.reset_index()\n",
    "grouped.columns = ['scope', 'proportion']\n",
    "grouped"
   ]
  },
  {
   "cell_type": "markdown",
   "id": "deff6c6e",
   "metadata": {},
   "source": [
    "#### How many problematic cases will it solve depending on the chosen threshold and scope? ####"
   ]
  },
  {
   "cell_type": "markdown",
   "id": "029b876a",
   "metadata": {},
   "source": [
    "We compute min_delay_between_rentals = delay_at_checkout_in_minutes_previous for drivers_late_next_checking_dtf dataset \n",
    "(time_delta_with_previous_rental_in_minutes_next + (delay_at_checkout_in_minutes_previous-time_delta_with_previous_rental_in_minutes_next))\n",
    "\n",
    "Thus with this delay / threshold it solves this problematic case.\n",
    "\n",
    "Then by computing cumulative distribution function based on this new field / threshold, it gives the number of problematic cases solved by threshold"
   ]
  },
  {
   "cell_type": "code",
   "execution_count": 44,
   "id": "b4deb488",
   "metadata": {},
   "outputs": [
    {
     "data": {
      "text/html": [
       "<div>\n",
       "<style scoped>\n",
       "    .dataframe tbody tr th:only-of-type {\n",
       "        vertical-align: middle;\n",
       "    }\n",
       "\n",
       "    .dataframe tbody tr th {\n",
       "        vertical-align: top;\n",
       "    }\n",
       "\n",
       "    .dataframe thead th {\n",
       "        text-align: right;\n",
       "    }\n",
       "</style>\n",
       "<table border=\"1\" class=\"dataframe\">\n",
       "  <thead>\n",
       "    <tr style=\"text-align: right;\">\n",
       "      <th></th>\n",
       "      <th>rental_id_previous</th>\n",
       "      <th>car_id_previous</th>\n",
       "      <th>checkin_type_previous</th>\n",
       "      <th>state_previous</th>\n",
       "      <th>delay_at_checkout_in_minutes_previous</th>\n",
       "      <th>previous_ended_rental_id_previous</th>\n",
       "      <th>time_delta_with_previous_rental_in_minutes_previous</th>\n",
       "      <th>rental_id_next</th>\n",
       "      <th>car_id_next</th>\n",
       "      <th>checkin_type_next</th>\n",
       "      <th>state_next</th>\n",
       "      <th>delay_at_checkout_in_minutes_next</th>\n",
       "      <th>previous_ended_rental_id_next</th>\n",
       "      <th>time_delta_with_previous_rental_in_minutes_next</th>\n",
       "      <th>min_delay_between_rentals</th>\n",
       "    </tr>\n",
       "  </thead>\n",
       "  <tbody>\n",
       "    <tr>\n",
       "      <th>2</th>\n",
       "      <td>536343</td>\n",
       "      <td>369230</td>\n",
       "      <td>mobile</td>\n",
       "      <td>ended</td>\n",
       "      <td>780.0</td>\n",
       "      <td>NaN</td>\n",
       "      <td>NaN</td>\n",
       "      <td>536315</td>\n",
       "      <td>369230</td>\n",
       "      <td>mobile</td>\n",
       "      <td>ended</td>\n",
       "      <td>-191.0</td>\n",
       "      <td>536343.0</td>\n",
       "      <td>720.0</td>\n",
       "      <td>780.0</td>\n",
       "    </tr>\n",
       "    <tr>\n",
       "      <th>3</th>\n",
       "      <td>536978</td>\n",
       "      <td>378931</td>\n",
       "      <td>mobile</td>\n",
       "      <td>ended</td>\n",
       "      <td>271.0</td>\n",
       "      <td>NaN</td>\n",
       "      <td>NaN</td>\n",
       "      <td>544473</td>\n",
       "      <td>378931</td>\n",
       "      <td>mobile</td>\n",
       "      <td>ended</td>\n",
       "      <td>-4.0</td>\n",
       "      <td>536978.0</td>\n",
       "      <td>60.0</td>\n",
       "      <td>271.0</td>\n",
       "    </tr>\n",
       "    <tr>\n",
       "      <th>6</th>\n",
       "      <td>541444</td>\n",
       "      <td>397413</td>\n",
       "      <td>mobile</td>\n",
       "      <td>ended</td>\n",
       "      <td>901.0</td>\n",
       "      <td>NaN</td>\n",
       "      <td>NaN</td>\n",
       "      <td>543665</td>\n",
       "      <td>397413</td>\n",
       "      <td>mobile</td>\n",
       "      <td>ended</td>\n",
       "      <td>7.0</td>\n",
       "      <td>541444.0</td>\n",
       "      <td>30.0</td>\n",
       "      <td>901.0</td>\n",
       "    </tr>\n",
       "    <tr>\n",
       "      <th>7</th>\n",
       "      <td>544443</td>\n",
       "      <td>337047</td>\n",
       "      <td>mobile</td>\n",
       "      <td>ended</td>\n",
       "      <td>56.0</td>\n",
       "      <td>NaN</td>\n",
       "      <td>NaN</td>\n",
       "      <td>547047</td>\n",
       "      <td>337047</td>\n",
       "      <td>mobile</td>\n",
       "      <td>ended</td>\n",
       "      <td>-53.0</td>\n",
       "      <td>544443.0</td>\n",
       "      <td>30.0</td>\n",
       "      <td>56.0</td>\n",
       "    </tr>\n",
       "    <tr>\n",
       "      <th>8</th>\n",
       "      <td>545064</td>\n",
       "      <td>194343</td>\n",
       "      <td>connect</td>\n",
       "      <td>ended</td>\n",
       "      <td>74.0</td>\n",
       "      <td>NaN</td>\n",
       "      <td>NaN</td>\n",
       "      <td>547783</td>\n",
       "      <td>194343</td>\n",
       "      <td>connect</td>\n",
       "      <td>ended</td>\n",
       "      <td>-61.0</td>\n",
       "      <td>545064.0</td>\n",
       "      <td>30.0</td>\n",
       "      <td>74.0</td>\n",
       "    </tr>\n",
       "    <tr>\n",
       "      <th>11</th>\n",
       "      <td>548646</td>\n",
       "      <td>282893</td>\n",
       "      <td>mobile</td>\n",
       "      <td>ended</td>\n",
       "      <td>201.0</td>\n",
       "      <td>NaN</td>\n",
       "      <td>NaN</td>\n",
       "      <td>539151</td>\n",
       "      <td>282893</td>\n",
       "      <td>mobile</td>\n",
       "      <td>canceled</td>\n",
       "      <td>NaN</td>\n",
       "      <td>548646.0</td>\n",
       "      <td>30.0</td>\n",
       "      <td>201.0</td>\n",
       "    </tr>\n",
       "    <tr>\n",
       "      <th>15</th>\n",
       "      <td>557514</td>\n",
       "      <td>405433</td>\n",
       "      <td>mobile</td>\n",
       "      <td>ended</td>\n",
       "      <td>47.0</td>\n",
       "      <td>NaN</td>\n",
       "      <td>NaN</td>\n",
       "      <td>557845</td>\n",
       "      <td>405433</td>\n",
       "      <td>mobile</td>\n",
       "      <td>ended</td>\n",
       "      <td>-11.0</td>\n",
       "      <td>557514.0</td>\n",
       "      <td>0.0</td>\n",
       "      <td>47.0</td>\n",
       "    </tr>\n",
       "    <tr>\n",
       "      <th>16</th>\n",
       "      <td>558583</td>\n",
       "      <td>326578</td>\n",
       "      <td>mobile</td>\n",
       "      <td>ended</td>\n",
       "      <td>3.0</td>\n",
       "      <td>NaN</td>\n",
       "      <td>NaN</td>\n",
       "      <td>555821</td>\n",
       "      <td>326578</td>\n",
       "      <td>mobile</td>\n",
       "      <td>ended</td>\n",
       "      <td>1143.0</td>\n",
       "      <td>558583.0</td>\n",
       "      <td>0.0</td>\n",
       "      <td>3.0</td>\n",
       "    </tr>\n",
       "    <tr>\n",
       "      <th>18</th>\n",
       "      <td>562173</td>\n",
       "      <td>394024</td>\n",
       "      <td>mobile</td>\n",
       "      <td>ended</td>\n",
       "      <td>73.0</td>\n",
       "      <td>NaN</td>\n",
       "      <td>NaN</td>\n",
       "      <td>554062</td>\n",
       "      <td>394024</td>\n",
       "      <td>mobile</td>\n",
       "      <td>ended</td>\n",
       "      <td>-48.0</td>\n",
       "      <td>562173.0</td>\n",
       "      <td>0.0</td>\n",
       "      <td>73.0</td>\n",
       "    </tr>\n",
       "    <tr>\n",
       "      <th>19</th>\n",
       "      <td>562174</td>\n",
       "      <td>381499</td>\n",
       "      <td>connect</td>\n",
       "      <td>ended</td>\n",
       "      <td>73.0</td>\n",
       "      <td>NaN</td>\n",
       "      <td>NaN</td>\n",
       "      <td>568224</td>\n",
       "      <td>381499</td>\n",
       "      <td>connect</td>\n",
       "      <td>ended</td>\n",
       "      <td>-93.0</td>\n",
       "      <td>562174.0</td>\n",
       "      <td>0.0</td>\n",
       "      <td>73.0</td>\n",
       "    </tr>\n",
       "  </tbody>\n",
       "</table>\n",
       "</div>"
      ],
      "text/plain": [
       "    rental_id_previous  car_id_previous checkin_type_previous state_previous  \\\n",
       "2               536343           369230                mobile          ended   \n",
       "3               536978           378931                mobile          ended   \n",
       "6               541444           397413                mobile          ended   \n",
       "7               544443           337047                mobile          ended   \n",
       "8               545064           194343               connect          ended   \n",
       "11              548646           282893                mobile          ended   \n",
       "15              557514           405433                mobile          ended   \n",
       "16              558583           326578                mobile          ended   \n",
       "18              562173           394024                mobile          ended   \n",
       "19              562174           381499               connect          ended   \n",
       "\n",
       "    delay_at_checkout_in_minutes_previous  previous_ended_rental_id_previous  \\\n",
       "2                                   780.0                                NaN   \n",
       "3                                   271.0                                NaN   \n",
       "6                                   901.0                                NaN   \n",
       "7                                    56.0                                NaN   \n",
       "8                                    74.0                                NaN   \n",
       "11                                  201.0                                NaN   \n",
       "15                                   47.0                                NaN   \n",
       "16                                    3.0                                NaN   \n",
       "18                                   73.0                                NaN   \n",
       "19                                   73.0                                NaN   \n",
       "\n",
       "    time_delta_with_previous_rental_in_minutes_previous  rental_id_next  \\\n",
       "2                                                 NaN            536315   \n",
       "3                                                 NaN            544473   \n",
       "6                                                 NaN            543665   \n",
       "7                                                 NaN            547047   \n",
       "8                                                 NaN            547783   \n",
       "11                                                NaN            539151   \n",
       "15                                                NaN            557845   \n",
       "16                                                NaN            555821   \n",
       "18                                                NaN            554062   \n",
       "19                                                NaN            568224   \n",
       "\n",
       "    car_id_next checkin_type_next state_next  \\\n",
       "2        369230            mobile      ended   \n",
       "3        378931            mobile      ended   \n",
       "6        397413            mobile      ended   \n",
       "7        337047            mobile      ended   \n",
       "8        194343           connect      ended   \n",
       "11       282893            mobile   canceled   \n",
       "15       405433            mobile      ended   \n",
       "16       326578            mobile      ended   \n",
       "18       394024            mobile      ended   \n",
       "19       381499           connect      ended   \n",
       "\n",
       "    delay_at_checkout_in_minutes_next  previous_ended_rental_id_next  \\\n",
       "2                              -191.0                       536343.0   \n",
       "3                                -4.0                       536978.0   \n",
       "6                                 7.0                       541444.0   \n",
       "7                               -53.0                       544443.0   \n",
       "8                               -61.0                       545064.0   \n",
       "11                                NaN                       548646.0   \n",
       "15                              -11.0                       557514.0   \n",
       "16                             1143.0                       558583.0   \n",
       "18                              -48.0                       562173.0   \n",
       "19                              -93.0                       562174.0   \n",
       "\n",
       "    time_delta_with_previous_rental_in_minutes_next  min_delay_between_rentals  \n",
       "2                                             720.0                      780.0  \n",
       "3                                              60.0                      271.0  \n",
       "6                                              30.0                      901.0  \n",
       "7                                              30.0                       56.0  \n",
       "8                                              30.0                       74.0  \n",
       "11                                             30.0                      201.0  \n",
       "15                                              0.0                       47.0  \n",
       "16                                              0.0                        3.0  \n",
       "18                                              0.0                       73.0  \n",
       "19                                              0.0                       73.0  "
      ]
     },
     "execution_count": 44,
     "metadata": {},
     "output_type": "execute_result"
    }
   ],
   "source": [
    "drivers_late_next_checking_dtf['min_delay_between_rentals'] = drivers_late_next_checking_dtf['time_delta_with_previous_rental_in_minutes_next'] + (drivers_late_next_checking_dtf['delay_at_checkout_in_minutes_previous']-drivers_late_next_checking_dtf['time_delta_with_previous_rental_in_minutes_next'])\n",
    "drivers_late_next_checking_dtf.head(10)"
   ]
  },
  {
   "cell_type": "code",
   "execution_count": 50,
   "id": "eccdd5ca",
   "metadata": {},
   "outputs": [],
   "source": [
    "drivers_late_next_checking_threshold_dtf = drivers_late_next_checking_dtf.loc[:,['min_delay_between_rentals', 'checkin_type_previous' ]].copy()\n",
    "drivers_late_next_checking_threshold_dtf.head(5)\n",
    "drivers_late_next_checking_threshold_dtf.rename(columns={'checkin_type_previous':'checkin_type'}, inplace=True)"
   ]
  },
  {
   "cell_type": "code",
   "execution_count": 51,
   "id": "52c55427",
   "metadata": {},
   "outputs": [
    {
     "data": {
      "application/vnd.plotly.v1+json": {
       "config": {
        "plotlyServerURL": "https://plot.ly"
       },
       "data": [
        {
         "mode": "lines+markers",
         "name": "connect",
         "showlegend": true,
         "type": "scatter",
         "x": [
          90,
          150,
          210,
          270,
          330,
          390,
          450,
          510,
          570,
          630,
          690
         ],
         "xaxis": "x",
         "y": [
          12,
          21,
          24,
          27,
          28,
          29,
          29,
          29,
          31,
          32,
          32
         ],
         "yaxis": "y"
        },
        {
         "mode": "lines+markers",
         "name": "mobile",
         "showlegend": true,
         "type": "scatter",
         "x": [
          90,
          150,
          210,
          270,
          330,
          390,
          450,
          510,
          570,
          630,
          690
         ],
         "xaxis": "x2",
         "y": [
          32,
          44,
          50,
          60,
          63,
          65,
          66,
          68,
          71,
          73,
          73
         ],
         "yaxis": "y2"
        }
       ],
       "layout": {
        "annotations": [
         {
          "font": {
           "size": 16
          },
          "showarrow": false,
          "text": "connect",
          "x": 0.5,
          "xanchor": "center",
          "xref": "paper",
          "y": 1,
          "yanchor": "bottom",
          "yref": "paper"
         },
         {
          "font": {
           "size": 16
          },
          "showarrow": false,
          "text": "mobile",
          "x": 0.5,
          "xanchor": "center",
          "xref": "paper",
          "y": 0.375,
          "yanchor": "bottom",
          "yref": "paper"
         }
        ],
        "height": 600,
        "template": {
         "data": {
          "bar": [
           {
            "error_x": {
             "color": "#2a3f5f"
            },
            "error_y": {
             "color": "#2a3f5f"
            },
            "marker": {
             "line": {
              "color": "white",
              "width": 0.5
             },
             "pattern": {
              "fillmode": "overlay",
              "size": 10,
              "solidity": 0.2
             }
            },
            "type": "bar"
           }
          ],
          "barpolar": [
           {
            "marker": {
             "line": {
              "color": "white",
              "width": 0.5
             },
             "pattern": {
              "fillmode": "overlay",
              "size": 10,
              "solidity": 0.2
             }
            },
            "type": "barpolar"
           }
          ],
          "carpet": [
           {
            "aaxis": {
             "endlinecolor": "#2a3f5f",
             "gridcolor": "#C8D4E3",
             "linecolor": "#C8D4E3",
             "minorgridcolor": "#C8D4E3",
             "startlinecolor": "#2a3f5f"
            },
            "baxis": {
             "endlinecolor": "#2a3f5f",
             "gridcolor": "#C8D4E3",
             "linecolor": "#C8D4E3",
             "minorgridcolor": "#C8D4E3",
             "startlinecolor": "#2a3f5f"
            },
            "type": "carpet"
           }
          ],
          "choropleth": [
           {
            "colorbar": {
             "outlinewidth": 0,
             "ticks": ""
            },
            "type": "choropleth"
           }
          ],
          "contour": [
           {
            "colorbar": {
             "outlinewidth": 0,
             "ticks": ""
            },
            "colorscale": [
             [
              0,
              "#0d0887"
             ],
             [
              0.1111111111111111,
              "#46039f"
             ],
             [
              0.2222222222222222,
              "#7201a8"
             ],
             [
              0.3333333333333333,
              "#9c179e"
             ],
             [
              0.4444444444444444,
              "#bd3786"
             ],
             [
              0.5555555555555556,
              "#d8576b"
             ],
             [
              0.6666666666666666,
              "#ed7953"
             ],
             [
              0.7777777777777778,
              "#fb9f3a"
             ],
             [
              0.8888888888888888,
              "#fdca26"
             ],
             [
              1,
              "#f0f921"
             ]
            ],
            "type": "contour"
           }
          ],
          "contourcarpet": [
           {
            "colorbar": {
             "outlinewidth": 0,
             "ticks": ""
            },
            "type": "contourcarpet"
           }
          ],
          "heatmap": [
           {
            "colorbar": {
             "outlinewidth": 0,
             "ticks": ""
            },
            "colorscale": [
             [
              0,
              "#0d0887"
             ],
             [
              0.1111111111111111,
              "#46039f"
             ],
             [
              0.2222222222222222,
              "#7201a8"
             ],
             [
              0.3333333333333333,
              "#9c179e"
             ],
             [
              0.4444444444444444,
              "#bd3786"
             ],
             [
              0.5555555555555556,
              "#d8576b"
             ],
             [
              0.6666666666666666,
              "#ed7953"
             ],
             [
              0.7777777777777778,
              "#fb9f3a"
             ],
             [
              0.8888888888888888,
              "#fdca26"
             ],
             [
              1,
              "#f0f921"
             ]
            ],
            "type": "heatmap"
           }
          ],
          "heatmapgl": [
           {
            "colorbar": {
             "outlinewidth": 0,
             "ticks": ""
            },
            "colorscale": [
             [
              0,
              "#0d0887"
             ],
             [
              0.1111111111111111,
              "#46039f"
             ],
             [
              0.2222222222222222,
              "#7201a8"
             ],
             [
              0.3333333333333333,
              "#9c179e"
             ],
             [
              0.4444444444444444,
              "#bd3786"
             ],
             [
              0.5555555555555556,
              "#d8576b"
             ],
             [
              0.6666666666666666,
              "#ed7953"
             ],
             [
              0.7777777777777778,
              "#fb9f3a"
             ],
             [
              0.8888888888888888,
              "#fdca26"
             ],
             [
              1,
              "#f0f921"
             ]
            ],
            "type": "heatmapgl"
           }
          ],
          "histogram": [
           {
            "marker": {
             "pattern": {
              "fillmode": "overlay",
              "size": 10,
              "solidity": 0.2
             }
            },
            "type": "histogram"
           }
          ],
          "histogram2d": [
           {
            "colorbar": {
             "outlinewidth": 0,
             "ticks": ""
            },
            "colorscale": [
             [
              0,
              "#0d0887"
             ],
             [
              0.1111111111111111,
              "#46039f"
             ],
             [
              0.2222222222222222,
              "#7201a8"
             ],
             [
              0.3333333333333333,
              "#9c179e"
             ],
             [
              0.4444444444444444,
              "#bd3786"
             ],
             [
              0.5555555555555556,
              "#d8576b"
             ],
             [
              0.6666666666666666,
              "#ed7953"
             ],
             [
              0.7777777777777778,
              "#fb9f3a"
             ],
             [
              0.8888888888888888,
              "#fdca26"
             ],
             [
              1,
              "#f0f921"
             ]
            ],
            "type": "histogram2d"
           }
          ],
          "histogram2dcontour": [
           {
            "colorbar": {
             "outlinewidth": 0,
             "ticks": ""
            },
            "colorscale": [
             [
              0,
              "#0d0887"
             ],
             [
              0.1111111111111111,
              "#46039f"
             ],
             [
              0.2222222222222222,
              "#7201a8"
             ],
             [
              0.3333333333333333,
              "#9c179e"
             ],
             [
              0.4444444444444444,
              "#bd3786"
             ],
             [
              0.5555555555555556,
              "#d8576b"
             ],
             [
              0.6666666666666666,
              "#ed7953"
             ],
             [
              0.7777777777777778,
              "#fb9f3a"
             ],
             [
              0.8888888888888888,
              "#fdca26"
             ],
             [
              1,
              "#f0f921"
             ]
            ],
            "type": "histogram2dcontour"
           }
          ],
          "mesh3d": [
           {
            "colorbar": {
             "outlinewidth": 0,
             "ticks": ""
            },
            "type": "mesh3d"
           }
          ],
          "parcoords": [
           {
            "line": {
             "colorbar": {
              "outlinewidth": 0,
              "ticks": ""
             }
            },
            "type": "parcoords"
           }
          ],
          "pie": [
           {
            "automargin": true,
            "type": "pie"
           }
          ],
          "scatter": [
           {
            "fillpattern": {
             "fillmode": "overlay",
             "size": 10,
             "solidity": 0.2
            },
            "type": "scatter"
           }
          ],
          "scatter3d": [
           {
            "line": {
             "colorbar": {
              "outlinewidth": 0,
              "ticks": ""
             }
            },
            "marker": {
             "colorbar": {
              "outlinewidth": 0,
              "ticks": ""
             }
            },
            "type": "scatter3d"
           }
          ],
          "scattercarpet": [
           {
            "marker": {
             "colorbar": {
              "outlinewidth": 0,
              "ticks": ""
             }
            },
            "type": "scattercarpet"
           }
          ],
          "scattergeo": [
           {
            "marker": {
             "colorbar": {
              "outlinewidth": 0,
              "ticks": ""
             }
            },
            "type": "scattergeo"
           }
          ],
          "scattergl": [
           {
            "marker": {
             "colorbar": {
              "outlinewidth": 0,
              "ticks": ""
             }
            },
            "type": "scattergl"
           }
          ],
          "scattermapbox": [
           {
            "marker": {
             "colorbar": {
              "outlinewidth": 0,
              "ticks": ""
             }
            },
            "type": "scattermapbox"
           }
          ],
          "scatterpolar": [
           {
            "marker": {
             "colorbar": {
              "outlinewidth": 0,
              "ticks": ""
             }
            },
            "type": "scatterpolar"
           }
          ],
          "scatterpolargl": [
           {
            "marker": {
             "colorbar": {
              "outlinewidth": 0,
              "ticks": ""
             }
            },
            "type": "scatterpolargl"
           }
          ],
          "scatterternary": [
           {
            "marker": {
             "colorbar": {
              "outlinewidth": 0,
              "ticks": ""
             }
            },
            "type": "scatterternary"
           }
          ],
          "surface": [
           {
            "colorbar": {
             "outlinewidth": 0,
             "ticks": ""
            },
            "colorscale": [
             [
              0,
              "#0d0887"
             ],
             [
              0.1111111111111111,
              "#46039f"
             ],
             [
              0.2222222222222222,
              "#7201a8"
             ],
             [
              0.3333333333333333,
              "#9c179e"
             ],
             [
              0.4444444444444444,
              "#bd3786"
             ],
             [
              0.5555555555555556,
              "#d8576b"
             ],
             [
              0.6666666666666666,
              "#ed7953"
             ],
             [
              0.7777777777777778,
              "#fb9f3a"
             ],
             [
              0.8888888888888888,
              "#fdca26"
             ],
             [
              1,
              "#f0f921"
             ]
            ],
            "type": "surface"
           }
          ],
          "table": [
           {
            "cells": {
             "fill": {
              "color": "#EBF0F8"
             },
             "line": {
              "color": "white"
             }
            },
            "header": {
             "fill": {
              "color": "#C8D4E3"
             },
             "line": {
              "color": "white"
             }
            },
            "type": "table"
           }
          ]
         },
         "layout": {
          "annotationdefaults": {
           "arrowcolor": "#2a3f5f",
           "arrowhead": 0,
           "arrowwidth": 1
          },
          "autotypenumbers": "strict",
          "coloraxis": {
           "colorbar": {
            "outlinewidth": 0,
            "ticks": ""
           }
          },
          "colorscale": {
           "diverging": [
            [
             0,
             "#8e0152"
            ],
            [
             0.1,
             "#c51b7d"
            ],
            [
             0.2,
             "#de77ae"
            ],
            [
             0.3,
             "#f1b6da"
            ],
            [
             0.4,
             "#fde0ef"
            ],
            [
             0.5,
             "#f7f7f7"
            ],
            [
             0.6,
             "#e6f5d0"
            ],
            [
             0.7,
             "#b8e186"
            ],
            [
             0.8,
             "#7fbc41"
            ],
            [
             0.9,
             "#4d9221"
            ],
            [
             1,
             "#276419"
            ]
           ],
           "sequential": [
            [
             0,
             "#0d0887"
            ],
            [
             0.1111111111111111,
             "#46039f"
            ],
            [
             0.2222222222222222,
             "#7201a8"
            ],
            [
             0.3333333333333333,
             "#9c179e"
            ],
            [
             0.4444444444444444,
             "#bd3786"
            ],
            [
             0.5555555555555556,
             "#d8576b"
            ],
            [
             0.6666666666666666,
             "#ed7953"
            ],
            [
             0.7777777777777778,
             "#fb9f3a"
            ],
            [
             0.8888888888888888,
             "#fdca26"
            ],
            [
             1,
             "#f0f921"
            ]
           ],
           "sequentialminus": [
            [
             0,
             "#0d0887"
            ],
            [
             0.1111111111111111,
             "#46039f"
            ],
            [
             0.2222222222222222,
             "#7201a8"
            ],
            [
             0.3333333333333333,
             "#9c179e"
            ],
            [
             0.4444444444444444,
             "#bd3786"
            ],
            [
             0.5555555555555556,
             "#d8576b"
            ],
            [
             0.6666666666666666,
             "#ed7953"
            ],
            [
             0.7777777777777778,
             "#fb9f3a"
            ],
            [
             0.8888888888888888,
             "#fdca26"
            ],
            [
             1,
             "#f0f921"
            ]
           ]
          },
          "colorway": [
           "#636efa",
           "#EF553B",
           "#00cc96",
           "#ab63fa",
           "#FFA15A",
           "#19d3f3",
           "#FF6692",
           "#B6E880",
           "#FF97FF",
           "#FECB52"
          ],
          "font": {
           "color": "#2a3f5f"
          },
          "geo": {
           "bgcolor": "white",
           "lakecolor": "white",
           "landcolor": "white",
           "showlakes": true,
           "showland": true,
           "subunitcolor": "#C8D4E3"
          },
          "hoverlabel": {
           "align": "left"
          },
          "hovermode": "closest",
          "mapbox": {
           "style": "light"
          },
          "paper_bgcolor": "white",
          "plot_bgcolor": "white",
          "polar": {
           "angularaxis": {
            "gridcolor": "#EBF0F8",
            "linecolor": "#EBF0F8",
            "ticks": ""
           },
           "bgcolor": "white",
           "radialaxis": {
            "gridcolor": "#EBF0F8",
            "linecolor": "#EBF0F8",
            "ticks": ""
           }
          },
          "scene": {
           "xaxis": {
            "backgroundcolor": "white",
            "gridcolor": "#DFE8F3",
            "gridwidth": 2,
            "linecolor": "#EBF0F8",
            "showbackground": true,
            "ticks": "",
            "zerolinecolor": "#EBF0F8"
           },
           "yaxis": {
            "backgroundcolor": "white",
            "gridcolor": "#DFE8F3",
            "gridwidth": 2,
            "linecolor": "#EBF0F8",
            "showbackground": true,
            "ticks": "",
            "zerolinecolor": "#EBF0F8"
           },
           "zaxis": {
            "backgroundcolor": "white",
            "gridcolor": "#DFE8F3",
            "gridwidth": 2,
            "linecolor": "#EBF0F8",
            "showbackground": true,
            "ticks": "",
            "zerolinecolor": "#EBF0F8"
           }
          },
          "shapedefaults": {
           "line": {
            "color": "#2a3f5f"
           }
          },
          "ternary": {
           "aaxis": {
            "gridcolor": "#DFE8F3",
            "linecolor": "#A2B1C6",
            "ticks": ""
           },
           "baxis": {
            "gridcolor": "#DFE8F3",
            "linecolor": "#A2B1C6",
            "ticks": ""
           },
           "bgcolor": "white",
           "caxis": {
            "gridcolor": "#DFE8F3",
            "linecolor": "#A2B1C6",
            "ticks": ""
           }
          },
          "title": {
           "x": 0.05
          },
          "xaxis": {
           "automargin": true,
           "gridcolor": "#EBF0F8",
           "linecolor": "#EBF0F8",
           "ticks": "",
           "title": {
            "standoff": 15
           },
           "zerolinecolor": "#EBF0F8",
           "zerolinewidth": 2
          },
          "yaxis": {
           "automargin": true,
           "gridcolor": "#EBF0F8",
           "linecolor": "#EBF0F8",
           "ticks": "",
           "title": {
            "standoff": 15
           },
           "zerolinecolor": "#EBF0F8",
           "zerolinewidth": 2
          }
         }
        },
        "title": {
         "text": "Cumulative Distribution of rentals potentialy solved by Threshold"
        },
        "width": 800,
        "xaxis": {
         "anchor": "y",
         "domain": [
          0,
          1
         ],
         "matches": "x2",
         "showticklabels": false,
         "title": {
          "text": "Threshold - Time delta with previous rental (minutes)"
         }
        },
        "xaxis2": {
         "anchor": "y2",
         "domain": [
          0,
          1
         ]
        },
        "yaxis": {
         "anchor": "x",
         "domain": [
          0.625,
          1
         ],
         "title": {
          "text": "Cumulative count"
         }
        },
        "yaxis2": {
         "anchor": "x2",
         "domain": [
          0,
          0.375
         ]
        }
       }
      }
     },
     "metadata": {},
     "output_type": "display_data"
    }
   ],
   "source": [
    "\n",
    "\n",
    "\n",
    "n = 12  # Number of values\n",
    "step = 60\n",
    "custom_bins = np.arange(step, (n + 1) * step, step)\n",
    "bin_midpoints = 0.5 * (custom_bins[:-1] + custom_bins[1:])\n",
    "\n",
    "# Prepare subplot layout\n",
    "scopes = sorted(drivers_late_next_checking_threshold_dtf[\"checkin_type\"].unique())\n",
    "n_rows = len(scopes)\n",
    "\n",
    "fig = make_subplots(\n",
    "    rows=n_rows,\n",
    "    cols=1,\n",
    "    shared_xaxes=True,\n",
    "    subplot_titles=[scope for scope in scopes]\n",
    ")\n",
    "\n",
    "# Add traces\n",
    "for i, scope in enumerate(scopes):\n",
    "    data = drivers_late_next_checking_threshold_dtf[drivers_late_next_checking_threshold_dtf[\"checkin_type\"] == scope][\"min_delay_between_rentals\"]\n",
    "    hist, _ = np.histogram(data, bins=custom_bins, density=False)\n",
    "    cumulative_counts = np.cumsum(hist)\n",
    "    proportions = cumulative_counts / cumulative_counts[-1]  # Normalize to 1\n",
    "\n",
    "    fig.add_trace(\n",
    "        go.Scatter(\n",
    "            x=bin_midpoints,\n",
    "            y=cumulative_counts,\n",
    "            mode='lines+markers',\n",
    "            name=scope,\n",
    "            showlegend=True\n",
    "        ),\n",
    "        row=i+1,\n",
    "        col=1\n",
    "    )\n",
    "\n",
    "# Layout\n",
    "fig.update_layout(\n",
    "    height=300 * n_rows,\n",
    "    width=800,\n",
    "    title_text=\"Cumulative Distribution of rentals potentialy solved by Threshold\",\n",
    "    xaxis_title=\"Threshold - Time delta with previous rental (minutes)\",\n",
    "    yaxis_title=\"Cumulative count\",\n",
    "    template=\"plotly_white\"\n",
    ")\n",
    "\n",
    "fig.show()"
   ]
  }
 ],
 "metadata": {
  "kernelspec": {
   "display_name": "jedha_dts",
   "language": "python",
   "name": "python3"
  },
  "language_info": {
   "codemirror_mode": {
    "name": "ipython",
    "version": 3
   },
   "file_extension": ".py",
   "mimetype": "text/x-python",
   "name": "python",
   "nbconvert_exporter": "python",
   "pygments_lexer": "ipython3",
   "version": "3.12.4"
  }
 },
 "nbformat": 4,
 "nbformat_minor": 5
}
